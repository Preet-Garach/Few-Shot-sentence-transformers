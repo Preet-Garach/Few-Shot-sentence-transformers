{
 "cells": [
  {
   "cell_type": "code",
   "execution_count": 4,
   "id": "7b7b40f2",
   "metadata": {},
   "outputs": [],
   "source": [
    "import pandas as pd\n",
    "import numpy as np\n",
    "import re\n",
    "from sentence_transformers import SentenceTransformer\n",
    "from translate import Translator\n",
    "from setfit import SetFitClassifier\n",
    "# from setfit import SetFitModel, SetFitTrainer\n",
    "import warnings\n",
    "warnings.filterwarnings(\"ignore\")"
   ]
  },
  {
   "cell_type": "code",
   "execution_count": 5,
   "id": "6fcd86bb",
   "metadata": {},
   "outputs": [
    {
     "data": {
      "text/html": [
       "<div>\n",
       "<style scoped>\n",
       "    .dataframe tbody tr th:only-of-type {\n",
       "        vertical-align: middle;\n",
       "    }\n",
       "\n",
       "    .dataframe tbody tr th {\n",
       "        vertical-align: top;\n",
       "    }\n",
       "\n",
       "    .dataframe thead th {\n",
       "        text-align: right;\n",
       "    }\n",
       "</style>\n",
       "<table border=\"1\" class=\"dataframe\">\n",
       "  <thead>\n",
       "    <tr style=\"text-align: right;\">\n",
       "      <th></th>\n",
       "      <th>Unnamed: 0</th>\n",
       "      <th>title</th>\n",
       "      <th>label</th>\n",
       "      <th>processed_title</th>\n",
       "    </tr>\n",
       "  </thead>\n",
       "  <tbody>\n",
       "    <tr>\n",
       "      <th>0</th>\n",
       "      <td>0</td>\n",
       "      <td>Director, Learning and Support</td>\n",
       "      <td>CLASS1</td>\n",
       "      <td>director learning and support</td>\n",
       "    </tr>\n",
       "    <tr>\n",
       "      <th>1</th>\n",
       "      <td>1</td>\n",
       "      <td>Customer Service Assistant</td>\n",
       "      <td>CLASS2</td>\n",
       "      <td>customer service assistant</td>\n",
       "    </tr>\n",
       "    <tr>\n",
       "      <th>2</th>\n",
       "      <td>2</td>\n",
       "      <td>2023 Internship and Education Program Manageme...</td>\n",
       "      <td>CLASS13</td>\n",
       "      <td>intern and education program management intern</td>\n",
       "    </tr>\n",
       "    <tr>\n",
       "      <th>3</th>\n",
       "      <td>3</td>\n",
       "      <td>Communications Technician</td>\n",
       "      <td>CLASS13</td>\n",
       "      <td>communications technician</td>\n",
       "    </tr>\n",
       "    <tr>\n",
       "      <th>4</th>\n",
       "      <td>4</td>\n",
       "      <td>Emergency Preparedness Officer</td>\n",
       "      <td>CLASS3</td>\n",
       "      <td>emergency prepresentativearedness officer</td>\n",
       "    </tr>\n",
       "  </tbody>\n",
       "</table>\n",
       "</div>"
      ],
      "text/plain": [
       "   Unnamed: 0                                              title    label   \n",
       "0           0                     Director, Learning and Support   CLASS1  \\\n",
       "1           1                         Customer Service Assistant   CLASS2   \n",
       "2           2  2023 Internship and Education Program Manageme...  CLASS13   \n",
       "3           3                          Communications Technician  CLASS13   \n",
       "4           4                     Emergency Preparedness Officer   CLASS3   \n",
       "\n",
       "                                   processed_title  \n",
       "0                    director learning and support  \n",
       "1                       customer service assistant  \n",
       "2   intern and education program management intern  \n",
       "3                        communications technician  \n",
       "4        emergency prepresentativearedness officer  "
      ]
     },
     "execution_count": 5,
     "metadata": {},
     "output_type": "execute_result"
    }
   ],
   "source": [
    "df = pd.read_csv(\"orbitshift_classification.csv\")\n",
    "df.head()"
   ]
  },
  {
   "cell_type": "code",
   "execution_count": 6,
   "id": "f678b3b5",
   "metadata": {},
   "outputs": [
    {
     "data": {
      "text/html": [
       "<div>\n",
       "<style scoped>\n",
       "    .dataframe tbody tr th:only-of-type {\n",
       "        vertical-align: middle;\n",
       "    }\n",
       "\n",
       "    .dataframe tbody tr th {\n",
       "        vertical-align: top;\n",
       "    }\n",
       "\n",
       "    .dataframe thead th {\n",
       "        text-align: right;\n",
       "    }\n",
       "</style>\n",
       "<table border=\"1\" class=\"dataframe\">\n",
       "  <thead>\n",
       "    <tr style=\"text-align: right;\">\n",
       "      <th></th>\n",
       "      <th>label</th>\n",
       "      <th>processed_title</th>\n",
       "    </tr>\n",
       "  </thead>\n",
       "  <tbody>\n",
       "    <tr>\n",
       "      <th>0</th>\n",
       "      <td>CLASS1</td>\n",
       "      <td>director learning and support</td>\n",
       "    </tr>\n",
       "    <tr>\n",
       "      <th>1</th>\n",
       "      <td>CLASS2</td>\n",
       "      <td>customer service assistant</td>\n",
       "    </tr>\n",
       "    <tr>\n",
       "      <th>2</th>\n",
       "      <td>CLASS13</td>\n",
       "      <td>intern and education program management intern</td>\n",
       "    </tr>\n",
       "    <tr>\n",
       "      <th>3</th>\n",
       "      <td>CLASS13</td>\n",
       "      <td>communications technician</td>\n",
       "    </tr>\n",
       "    <tr>\n",
       "      <th>4</th>\n",
       "      <td>CLASS3</td>\n",
       "      <td>emergency prepresentativearedness officer</td>\n",
       "    </tr>\n",
       "    <tr>\n",
       "      <th>...</th>\n",
       "      <td>...</td>\n",
       "      <td>...</td>\n",
       "    </tr>\n",
       "    <tr>\n",
       "      <th>2254</th>\n",
       "      <td>CLASS8</td>\n",
       "      <td>team lead quality assucance</td>\n",
       "    </tr>\n",
       "    <tr>\n",
       "      <th>2255</th>\n",
       "      <td>CLASS8</td>\n",
       "      <td>associate director gra qms quality</td>\n",
       "    </tr>\n",
       "    <tr>\n",
       "      <th>2256</th>\n",
       "      <td>CLASS4</td>\n",
       "      <td>continuous improvement champion 2</td>\n",
       "    </tr>\n",
       "    <tr>\n",
       "      <th>2257</th>\n",
       "      <td>CLASS13</td>\n",
       "      <td>manager global evidence and outcomes china sha...</td>\n",
       "    </tr>\n",
       "    <tr>\n",
       "      <th>2258</th>\n",
       "      <td>CLASS4</td>\n",
       "      <td>usa  director medical information and review</td>\n",
       "    </tr>\n",
       "  </tbody>\n",
       "</table>\n",
       "<p>2259 rows × 2 columns</p>\n",
       "</div>"
      ],
      "text/plain": [
       "        label                                    processed_title\n",
       "0      CLASS1                      director learning and support\n",
       "1      CLASS2                         customer service assistant\n",
       "2     CLASS13     intern and education program management intern\n",
       "3     CLASS13                          communications technician\n",
       "4      CLASS3          emergency prepresentativearedness officer\n",
       "...       ...                                                ...\n",
       "2254   CLASS8                       team lead quality assucance \n",
       "2255   CLASS8                 associate director gra qms quality\n",
       "2256   CLASS4                  continuous improvement champion 2\n",
       "2257  CLASS13  manager global evidence and outcomes china sha...\n",
       "2258   CLASS4       usa  director medical information and review\n",
       "\n",
       "[2259 rows x 2 columns]"
      ]
     },
     "execution_count": 6,
     "metadata": {},
     "output_type": "execute_result"
    }
   ],
   "source": [
    "df.drop(['Unnamed: 0', 'title'], axis=1)"
   ]
  },
  {
   "cell_type": "code",
   "execution_count": 7,
   "id": "906a0bc4",
   "metadata": {},
   "outputs": [
    {
     "data": {
      "text/plain": [
       "array(['CLASS1', 'CLASS2', 'CLASS13', 'CLASS3', 'CLASS4', 'CLASS5',\n",
       "       'CLASS6', 'CLASS7', 'CLASS8', 'CLASS9', 'CLASS10', 'CLASS11',\n",
       "       'CLASS12'], dtype=object)"
      ]
     },
     "execution_count": 7,
     "metadata": {},
     "output_type": "execute_result"
    }
   ],
   "source": [
    "df['label'].unique()"
   ]
  },
  {
   "cell_type": "code",
   "execution_count": 8,
   "id": "e9ea9f44",
   "metadata": {},
   "outputs": [],
   "source": [
    "class_map = {'CLASS1':1, 'CLASS2':2, 'CLASS13':13, 'CLASS3':3, 'CLASS4':4, 'CLASS5':5,\n",
    "       'CLASS6':6, 'CLASS7':7, 'CLASS8':8, 'CLASS9':9, 'CLASS10':10, 'CLASS11':11,\n",
    "       'CLASS12':12}\n",
    "df['label'] = df['label'].map(class_map)"
   ]
  },
  {
   "cell_type": "code",
   "execution_count": 9,
   "id": "994bd79f",
   "metadata": {},
   "outputs": [],
   "source": [
    "X = df['processed_title']\n",
    "y_true = df['label']"
   ]
  },
  {
   "cell_type": "code",
   "execution_count": 10,
   "id": "de74da3b",
   "metadata": {},
   "outputs": [
    {
     "data": {
      "text/plain": [
       "'director learning and support'"
      ]
     },
     "execution_count": 10,
     "metadata": {},
     "output_type": "execute_result"
    }
   ],
   "source": [
    "X[0]"
   ]
  },
  {
   "cell_type": "code",
   "execution_count": 11,
   "id": "d222605d",
   "metadata": {},
   "outputs": [
    {
     "data": {
      "text/plain": [
       "1"
      ]
     },
     "execution_count": 11,
     "metadata": {},
     "output_type": "execute_result"
    }
   ],
   "source": [
    "y_true[0]"
   ]
  },
  {
   "cell_type": "code",
   "execution_count": 12,
   "id": "b298cedf",
   "metadata": {},
   "outputs": [],
   "source": [
    "from sklearn.model_selection import train_test_split\n",
    "#Train/Test\n",
    "x_train, X_test, y_train, y_test = train_test_split(X, y_true, stratify=y_true, test_size=0.2)\n",
    "#Train/CV\n",
    "X_train, x_cv, y_train, y_cv = train_test_split(x_train, y_train, stratify=y_train, test_size=0.2)"
   ]
  },
  {
   "cell_type": "code",
   "execution_count": 13,
   "id": "6bb1bbcc",
   "metadata": {},
   "outputs": [
    {
     "name": "stdout",
     "output_type": "stream",
     "text": [
      "Number of data points in TRAIN data: 1445\n",
      "Number of data points in TEST data: 452\n",
      "Number of data points in CROSS-VALIDATION data: 362\n"
     ]
    }
   ],
   "source": [
    "print('Number of data points in TRAIN data:', X_train.shape[0])\n",
    "print('Number of data points in TEST data:', X_test.shape[0])\n",
    "print('Number of data points in CROSS-VALIDATION data:', x_cv.shape[0])"
   ]
  },
  {
   "cell_type": "code",
   "execution_count": 14,
   "id": "d68c6f1c",
   "metadata": {},
   "outputs": [],
   "source": [
    "clf = SetFitClassifier('sentence-transformers/all-MiniLM-L6-v2')"
   ]
  },
  {
   "cell_type": "code",
   "execution_count": 15,
   "id": "5e7e584f",
   "metadata": {},
   "outputs": [],
   "source": [
    "title = X_train.to_list()\n",
    "label = y_train.to_list()"
   ]
  },
  {
   "cell_type": "code",
   "execution_count": 16,
   "id": "d2dd4479",
   "metadata": {},
   "outputs": [
    {
     "name": "stderr",
     "output_type": "stream",
     "text": [
      "2023-05-07 20:28:49.622265: I tensorflow/core/platform/cpu_feature_guard.cc:182] This TensorFlow binary is optimized to use available CPU instructions in performance-critical operations.\n",
      "To enable the following instructions: AVX2 FMA, in other operations, rebuild TensorFlow with the appropriate compiler flags.\n",
      "2023-05-07 20:28:50.769474: W tensorflow/compiler/tf2tensorrt/utils/py_utils.cc:38] TF-TRT Warning: Could not find TensorRT\n",
      "Epoch:   0%|                                                                                                                                       | 0/1 [00:00<?, ?it/s]\n",
      "Iteration:   0%|                                                                                                                                 | 0/904 [00:00<?, ?it/s]\u001b[A\n",
      "Iteration:   0%|▏                                                                                                                        | 1/904 [00:01<15:15,  1.01s/it]\u001b[A\n",
      "Iteration:   0%|▎                                                                                                                        | 2/904 [00:01<13:09,  1.14it/s]\u001b[A\n",
      "Iteration:   0%|▍                                                                                                                        | 3/904 [00:02<14:56,  1.01it/s]\u001b[A\n",
      "Iteration:   0%|▌                                                                                                                        | 4/904 [00:04<18:31,  1.23s/it]\u001b[A\n",
      "Iteration:   1%|▋                                                                                                                        | 5/904 [00:05<18:09,  1.21s/it]\u001b[A\n",
      "Iteration:   1%|▊                                                                                                                        | 6/904 [00:06<16:53,  1.13s/it]\u001b[A\n",
      "Iteration:   1%|▉                                                                                                                        | 7/904 [00:07<16:22,  1.10s/it]\u001b[A\n",
      "Iteration:   1%|█                                                                                                                        | 8/904 [00:08<16:04,  1.08s/it]\u001b[A\n",
      "Iteration:   1%|█▏                                                                                                                       | 9/904 [00:10<16:55,  1.13s/it]\u001b[A\n",
      "Iteration:   1%|█▎                                                                                                                      | 10/904 [00:10<16:10,  1.09s/it]\u001b[A\n",
      "Iteration:   1%|█▍                                                                                                                      | 11/904 [00:11<15:45,  1.06s/it]\u001b[A\n",
      "Iteration:   1%|█▌                                                                                                                      | 12/904 [00:12<15:27,  1.04s/it]\u001b[A\n",
      "Iteration:   1%|█▋                                                                                                                      | 13/904 [00:14<16:07,  1.09s/it]\u001b[A\n",
      "Iteration:   2%|█▊                                                                                                                      | 14/904 [00:15<15:51,  1.07s/it]\u001b[A\n",
      "Iteration:   2%|█▉                                                                                                                      | 15/904 [00:15<15:35,  1.05s/it]\u001b[A\n",
      "Iteration:   2%|██                                                                                                                      | 16/904 [00:17<15:36,  1.05s/it]\u001b[A\n",
      "Iteration:   2%|██▎                                                                                                                     | 17/904 [00:18<15:31,  1.05s/it]\u001b[A\n",
      "Iteration:   2%|██▍                                                                                                                     | 18/904 [00:18<15:02,  1.02s/it]\u001b[A\n",
      "Iteration:   2%|██▌                                                                                                                     | 19/904 [00:19<14:48,  1.00s/it]\u001b[A\n",
      "Iteration:   2%|██▋                                                                                                                     | 20/904 [00:20<15:07,  1.03s/it]\u001b[A\n",
      "Iteration:   2%|██▊                                                                                                                     | 21/904 [00:22<15:53,  1.08s/it]\u001b[A\n",
      "Iteration:   2%|██▉                                                                                                                     | 22/904 [00:23<15:50,  1.08s/it]\u001b[A\n",
      "Iteration:   3%|███                                                                                                                     | 23/904 [00:24<15:34,  1.06s/it]\u001b[A\n",
      "Iteration:   3%|███▏                                                                                                                    | 24/904 [00:25<15:32,  1.06s/it]\u001b[A\n",
      "Iteration:   3%|███▎                                                                                                                    | 25/904 [00:26<15:59,  1.09s/it]\u001b[A\n",
      "Iteration:   3%|███▍                                                                                                                    | 26/904 [00:29<17:12,  1.18s/it]\u001b[A\n",
      "Iteration:   3%|███▌                                                                                                                    | 27/904 [00:33<19:41,  1.35s/it]\u001b[A\n",
      "Iteration:   3%|███▋                                                                                                                    | 28/904 [00:38<23:05,  1.58s/it]\u001b[A\n",
      "Iteration:   3%|███▊                                                                                                                    | 29/904 [00:40<24:08,  1.66s/it]\u001b[A\n",
      "Iteration:   3%|███▉                                                                                                                    | 30/904 [00:43<24:47,  1.70s/it]\u001b[A\n",
      "Iteration:   3%|████                                                                                                                    | 31/904 [00:47<26:56,  1.85s/it]\u001b[A\n",
      "Iteration:   4%|████▏                                                                                                                   | 32/904 [00:48<26:50,  1.85s/it]\u001b[A\n",
      "Iteration:   4%|████▍                                                                                                                   | 33/904 [00:49<25:45,  1.77s/it]\u001b[A\n",
      "Iteration:   4%|████▌                                                                                                                   | 34/904 [00:50<24:54,  1.72s/it]\u001b[A\n",
      "Iteration:   4%|████▋                                                                                                                   | 35/904 [00:51<24:28,  1.69s/it]\u001b[A\n",
      "Iteration:   4%|████▊                                                                                                                   | 36/904 [00:52<23:39,  1.64s/it]\u001b[A\n",
      "Iteration:   4%|████▉                                                                                                                   | 37/904 [00:53<23:25,  1.62s/it]\u001b[A\n",
      "Iteration:   4%|█████                                                                                                                   | 38/904 [00:55<23:31,  1.63s/it]\u001b[A\n",
      "Iteration:   4%|█████▏                                                                                                                  | 39/904 [00:57<23:34,  1.64s/it]\u001b[A\n",
      "Iteration:   4%|█████▎                                                                                                                  | 40/904 [00:58<23:29,  1.63s/it]\u001b[A\n",
      "Iteration:   5%|█████▍                                                                                                                  | 41/904 [01:01<24:26,  1.70s/it]\u001b[A\n",
      "Iteration:   5%|█████▌                                                                                                                  | 42/904 [01:02<23:58,  1.67s/it]\u001b[A\n"
     ]
    },
    {
     "name": "stderr",
     "output_type": "stream",
     "text": [
      "Iteration:   5%|█████▋                                                                                                                  | 43/904 [01:04<24:06,  1.68s/it]\u001b[A\n",
      "Iteration:   5%|█████▊                                                                                                                  | 44/904 [01:07<25:06,  1.75s/it]\u001b[A\n",
      "Iteration:   5%|█████▉                                                                                                                  | 45/904 [01:09<24:47,  1.73s/it]\u001b[A\n",
      "Iteration:   5%|██████                                                                                                                  | 46/904 [01:10<24:17,  1.70s/it]\u001b[A\n",
      "Iteration:   5%|██████▏                                                                                                                 | 47/904 [01:11<23:54,  1.67s/it]\u001b[A\n",
      "Iteration:   5%|██████▎                                                                                                                 | 48/904 [01:12<23:19,  1.63s/it]\u001b[A\n",
      "Iteration:   5%|██████▌                                                                                                                 | 49/904 [01:13<22:50,  1.60s/it]\u001b[A\n",
      "Iteration:   6%|██████▋                                                                                                                 | 50/904 [01:14<22:41,  1.59s/it]\u001b[A\n",
      "Iteration:   6%|██████▊                                                                                                                 | 51/904 [01:16<22:24,  1.58s/it]\u001b[A\n",
      "Iteration:   6%|██████▉                                                                                                                 | 52/904 [01:17<22:09,  1.56s/it]\u001b[A\n",
      "Iteration:   6%|███████                                                                                                                 | 53/904 [01:18<21:39,  1.53s/it]\u001b[A\n",
      "Iteration:   6%|███████▏                                                                                                                | 54/904 [01:19<21:35,  1.52s/it]\u001b[A\n",
      "Iteration:   6%|███████▎                                                                                                                | 55/904 [01:20<21:03,  1.49s/it]\u001b[A\n",
      "Iteration:   6%|███████▍                                                                                                                | 56/904 [01:21<20:40,  1.46s/it]\u001b[A\n",
      "Iteration:   6%|███████▌                                                                                                                | 57/904 [01:24<21:35,  1.53s/it]\u001b[A\n",
      "Iteration:   6%|███████▋                                                                                                                | 58/904 [01:27<22:16,  1.58s/it]\u001b[A\n",
      "Iteration:   7%|███████▊                                                                                                                | 59/904 [01:30<23:21,  1.66s/it]\u001b[A\n",
      "Iteration:   7%|███████▉                                                                                                                | 60/904 [01:32<23:53,  1.70s/it]\u001b[A\n",
      "Iteration:   7%|████████                                                                                                                | 61/904 [01:34<24:09,  1.72s/it]\u001b[A\n",
      "Iteration:   7%|████████▏                                                                                                               | 62/904 [01:37<25:11,  1.80s/it]\u001b[A\n",
      "Iteration:   7%|████████▎                                                                                                               | 63/904 [01:41<26:17,  1.88s/it]\u001b[A\n",
      "Iteration:   7%|████████▍                                                                                                               | 64/904 [01:44<27:08,  1.94s/it]\u001b[A\n",
      "Iteration:   7%|████████▋                                                                                                               | 65/904 [01:46<27:37,  1.98s/it]\u001b[A\n",
      "Iteration:   7%|████████▊                                                                                                               | 66/904 [01:50<28:42,  2.06s/it]\u001b[A\n",
      "Iteration:   7%|████████▉                                                                                                               | 67/904 [01:51<27:57,  2.00s/it]\u001b[A\n",
      "Iteration:   8%|█████████                                                                                                               | 68/904 [01:52<27:16,  1.96s/it]\u001b[A\n",
      "Iteration:   8%|█████████▏                                                                                                              | 69/904 [01:53<26:52,  1.93s/it]\u001b[A\n",
      "Iteration:   8%|█████████▎                                                                                                              | 70/904 [01:55<26:33,  1.91s/it]\u001b[A\n",
      "Iteration:   8%|█████████▍                                                                                                              | 71/904 [01:56<25:51,  1.86s/it]\u001b[A\n",
      "Iteration:   8%|█████████▌                                                                                                              | 72/904 [01:57<25:03,  1.81s/it]\u001b[A\n",
      "Iteration:   8%|█████████▋                                                                                                              | 73/904 [01:58<24:19,  1.76s/it]\u001b[A\n",
      "Iteration:   8%|█████████▊                                                                                                              | 74/904 [01:59<23:49,  1.72s/it]\u001b[A\n",
      "Iteration:   8%|█████████▉                                                                                                              | 75/904 [02:00<23:14,  1.68s/it]\u001b[A\n",
      "Iteration:   8%|██████████                                                                                                              | 76/904 [02:01<23:10,  1.68s/it]\u001b[A\n",
      "Iteration:   9%|██████████▏                                                                                                             | 77/904 [02:02<22:48,  1.66s/it]\u001b[A\n",
      "Iteration:   9%|██████████▎                                                                                                             | 78/904 [02:03<22:19,  1.62s/it]\u001b[A\n",
      "Iteration:   9%|██████████▍                                                                                                             | 79/904 [02:04<21:50,  1.59s/it]\u001b[A\n",
      "Iteration:   9%|██████████▌                                                                                                             | 80/904 [02:05<21:09,  1.54s/it]\u001b[A\n",
      "Iteration:   9%|██████████▊                                                                                                             | 81/904 [02:06<20:46,  1.52s/it]\u001b[A\n",
      "Iteration:   9%|██████████▉                                                                                                             | 82/904 [02:07<20:37,  1.51s/it]\u001b[A\n",
      "Iteration:   9%|███████████                                                                                                             | 83/904 [02:08<20:08,  1.47s/it]\u001b[A\n",
      "Iteration:   9%|███████████▏                                                                                                            | 84/904 [02:09<19:41,  1.44s/it]\u001b[A\n",
      "Iteration:   9%|███████████▎                                                                                                            | 85/904 [02:10<19:35,  1.43s/it]\u001b[A\n",
      "Iteration:  10%|███████████▍                                                                                                            | 86/904 [02:11<19:05,  1.40s/it]\u001b[A\n",
      "Iteration:  10%|███████████▌                                                                                                            | 87/904 [02:12<18:45,  1.38s/it]\u001b[A\n",
      "Iteration:  10%|███████████▋                                                                                                            | 88/904 [02:13<18:30,  1.36s/it]\u001b[A\n",
      "Iteration:  10%|███████████▊                                                                                                            | 89/904 [02:14<18:00,  1.33s/it]\u001b[A\n"
     ]
    },
    {
     "name": "stderr",
     "output_type": "stream",
     "text": [
      "Iteration:  10%|███████████▉                                                                                                            | 90/904 [02:15<17:53,  1.32s/it]\u001b[A\n",
      "Iteration:  10%|████████████                                                                                                            | 91/904 [02:16<17:32,  1.29s/it]\u001b[A\n",
      "Iteration:  10%|████████████▏                                                                                                           | 92/904 [02:17<17:13,  1.27s/it]\u001b[A\n",
      "Iteration:  10%|████████████▎                                                                                                           | 93/904 [02:18<16:57,  1.25s/it]\u001b[A\n",
      "Iteration:  10%|████████████▍                                                                                                           | 94/904 [02:19<16:45,  1.24s/it]\u001b[A\n",
      "Iteration:  11%|████████████▌                                                                                                           | 95/904 [02:20<16:35,  1.23s/it]\u001b[A\n",
      "Iteration:  11%|████████████▋                                                                                                           | 96/904 [02:21<16:24,  1.22s/it]\u001b[A\n",
      "Iteration:  11%|████████████▉                                                                                                           | 97/904 [02:22<16:11,  1.20s/it]\u001b[A\n",
      "Iteration:  11%|█████████████                                                                                                           | 98/904 [02:23<16:00,  1.19s/it]\u001b[A\n",
      "Iteration:  11%|█████████████▏                                                                                                          | 99/904 [02:24<15:55,  1.19s/it]\u001b[A\n",
      "Iteration:  11%|█████████████▏                                                                                                         | 100/904 [02:25<15:43,  1.17s/it]\u001b[A\n",
      "Iteration:  11%|█████████████▎                                                                                                         | 101/904 [02:25<15:21,  1.15s/it]\u001b[A\n",
      "Iteration:  11%|█████████████▍                                                                                                         | 102/904 [02:26<15:12,  1.14s/it]\u001b[A\n",
      "Iteration:  11%|█████████████▌                                                                                                         | 103/904 [02:27<14:55,  1.12s/it]\u001b[A\n",
      "Iteration:  12%|█████████████▋                                                                                                         | 104/904 [02:28<14:42,  1.10s/it]\u001b[A\n",
      "Iteration:  12%|█████████████▊                                                                                                         | 105/904 [02:29<14:32,  1.09s/it]\u001b[A\n",
      "Iteration:  12%|█████████████▉                                                                                                         | 106/904 [02:30<14:22,  1.08s/it]\u001b[A\n",
      "Iteration:  12%|██████████████                                                                                                         | 107/904 [02:31<14:21,  1.08s/it]\u001b[A\n",
      "Iteration:  12%|██████████████▏                                                                                                        | 108/904 [02:31<14:06,  1.06s/it]\u001b[A\n",
      "Iteration:  12%|██████████████▎                                                                                                        | 109/904 [02:32<13:50,  1.05s/it]\u001b[A\n",
      "Iteration:  12%|██████████████▍                                                                                                        | 110/904 [02:33<13:52,  1.05s/it]\u001b[A\n",
      "Iteration:  12%|██████████████▌                                                                                                        | 111/904 [02:34<13:54,  1.05s/it]\u001b[A\n",
      "Iteration:  12%|██████████████▋                                                                                                        | 112/904 [02:35<13:38,  1.03s/it]\u001b[A\n",
      "Iteration:  12%|██████████████▉                                                                                                        | 113/904 [02:36<13:35,  1.03s/it]\u001b[A\n",
      "Iteration:  13%|███████████████                                                                                                        | 114/904 [02:37<13:21,  1.01s/it]\u001b[A\n",
      "Iteration:  13%|███████████████▏                                                                                                       | 115/904 [02:38<13:27,  1.02s/it]\u001b[A\n",
      "Iteration:  13%|███████████████▎                                                                                                       | 116/904 [02:39<13:22,  1.02s/it]\u001b[A\n",
      "Iteration:  13%|███████████████▍                                                                                                       | 117/904 [02:40<13:14,  1.01s/it]\u001b[A\n",
      "Iteration:  13%|███████████████▌                                                                                                       | 118/904 [02:41<13:21,  1.02s/it]\u001b[A\n",
      "Iteration:  13%|███████████████▋                                                                                                       | 119/904 [02:42<13:09,  1.01s/it]\u001b[A\n",
      "Iteration:  13%|███████████████▊                                                                                                       | 120/904 [02:42<12:59,  1.01it/s]\u001b[A\n",
      "Iteration:  13%|███████████████▉                                                                                                       | 121/904 [02:44<13:36,  1.04s/it]\u001b[A\n",
      "Iteration:  13%|████████████████                                                                                                       | 122/904 [02:45<13:41,  1.05s/it]\u001b[A\n",
      "Iteration:  14%|████████████████▏                                                                                                      | 123/904 [02:48<14:22,  1.10s/it]\u001b[A\n",
      "Iteration:  14%|████████████████▎                                                                                                      | 124/904 [02:49<14:23,  1.11s/it]\u001b[A\n",
      "Iteration:  14%|████████████████▍                                                                                                      | 125/904 [02:50<14:26,  1.11s/it]\u001b[A\n",
      "Iteration:  14%|████████████████▌                                                                                                      | 126/904 [02:51<14:37,  1.13s/it]\u001b[A\n",
      "Iteration:  14%|████████████████▋                                                                                                      | 127/904 [02:52<14:33,  1.12s/it]\u001b[A\n",
      "Iteration:  14%|████████████████▊                                                                                                      | 128/904 [02:54<14:33,  1.13s/it]\u001b[A\n",
      "Iteration:  14%|████████████████▉                                                                                                      | 129/904 [02:55<14:44,  1.14s/it]\u001b[A\n",
      "Iteration:  14%|█████████████████                                                                                                      | 130/904 [02:56<14:36,  1.13s/it]\u001b[A\n",
      "Iteration:  14%|█████████████████▏                                                                                                     | 131/904 [02:57<14:32,  1.13s/it]\u001b[A\n",
      "Iteration:  15%|█████████████████▍                                                                                                     | 132/904 [02:58<14:26,  1.12s/it]\u001b[A\n",
      "Iteration:  15%|█████████████████▌                                                                                                     | 133/904 [02:59<14:16,  1.11s/it]\u001b[A\n",
      "Iteration:  15%|█████████████████▋                                                                                                     | 134/904 [03:00<14:08,  1.10s/it]\u001b[A\n",
      "Iteration:  15%|█████████████████▊                                                                                                     | 135/904 [03:01<13:57,  1.09s/it]\u001b[A\n",
      "Iteration:  15%|█████████████████▉                                                                                                     | 136/904 [03:02<13:51,  1.08s/it]\u001b[A\n"
     ]
    },
    {
     "name": "stderr",
     "output_type": "stream",
     "text": [
      "Iteration:  15%|██████████████████                                                                                                     | 137/904 [03:03<14:06,  1.10s/it]\u001b[A\n",
      "Iteration:  15%|██████████████████▏                                                                                                    | 138/904 [03:04<13:49,  1.08s/it]\u001b[A\n",
      "Iteration:  15%|██████████████████▎                                                                                                    | 139/904 [03:05<13:49,  1.08s/it]\u001b[A\n",
      "Iteration:  15%|██████████████████▍                                                                                                    | 140/904 [03:06<13:37,  1.07s/it]\u001b[A\n",
      "Iteration:  16%|██████████████████▌                                                                                                    | 141/904 [03:07<13:31,  1.06s/it]\u001b[A\n",
      "Iteration:  16%|██████████████████▋                                                                                                    | 142/904 [03:08<13:24,  1.06s/it]\u001b[A\n",
      "Iteration:  16%|██████████████████▊                                                                                                    | 143/904 [03:08<13:10,  1.04s/it]\u001b[A\n",
      "Iteration:  16%|██████████████████▉                                                                                                    | 144/904 [03:09<13:12,  1.04s/it]\u001b[A\n",
      "Iteration:  16%|███████████████████                                                                                                    | 145/904 [03:10<13:08,  1.04s/it]\u001b[A\n",
      "Iteration:  16%|███████████████████▏                                                                                                   | 146/904 [03:11<12:56,  1.02s/it]\u001b[A\n",
      "Iteration:  16%|███████████████████▎                                                                                                   | 147/904 [03:12<12:51,  1.02s/it]\u001b[A\n",
      "Iteration:  16%|███████████████████▍                                                                                                   | 148/904 [03:13<12:46,  1.01s/it]\u001b[A\n",
      "Iteration:  16%|███████████████████▌                                                                                                   | 149/904 [03:14<12:48,  1.02s/it]\u001b[A\n",
      "Iteration:  17%|███████████████████▋                                                                                                   | 150/904 [03:15<12:55,  1.03s/it]\u001b[A\n",
      "Iteration:  17%|███████████████████▉                                                                                                   | 151/904 [03:17<13:02,  1.04s/it]\u001b[A\n",
      "Iteration:  17%|████████████████████                                                                                                   | 152/904 [03:18<13:16,  1.06s/it]\u001b[A\n",
      "Iteration:  17%|████████████████████▏                                                                                                  | 153/904 [03:19<13:16,  1.06s/it]\u001b[A\n",
      "Iteration:  17%|████████████████████▎                                                                                                  | 154/904 [03:20<13:15,  1.06s/it]\u001b[A\n",
      "Iteration:  17%|████████████████████▍                                                                                                  | 155/904 [03:21<13:10,  1.05s/it]\u001b[A\n",
      "Iteration:  17%|████████████████████▌                                                                                                  | 156/904 [03:22<13:19,  1.07s/it]\u001b[A\n",
      "Iteration:  17%|████████████████████▋                                                                                                  | 157/904 [03:24<13:20,  1.07s/it]\u001b[A\n",
      "Iteration:  17%|████████████████████▊                                                                                                  | 158/904 [03:25<13:27,  1.08s/it]\u001b[A\n",
      "Iteration:  18%|████████████████████▉                                                                                                  | 159/904 [03:26<13:29,  1.09s/it]\u001b[A\n",
      "Iteration:  18%|█████████████████████                                                                                                  | 160/904 [03:27<13:17,  1.07s/it]\u001b[A\n",
      "Iteration:  18%|█████████████████████▏                                                                                                 | 161/904 [03:28<13:12,  1.07s/it]\u001b[A\n",
      "Iteration:  18%|█████████████████████▎                                                                                                 | 162/904 [03:29<13:04,  1.06s/it]\u001b[A\n",
      "Iteration:  18%|█████████████████████▍                                                                                                 | 163/904 [03:30<12:54,  1.05s/it]\u001b[A\n",
      "Iteration:  18%|█████████████████████▌                                                                                                 | 164/904 [03:31<12:56,  1.05s/it]\u001b[A\n",
      "Iteration:  18%|█████████████████████▋                                                                                                 | 165/904 [03:31<12:41,  1.03s/it]\u001b[A\n",
      "Iteration:  18%|█████████████████████▊                                                                                                 | 166/904 [03:33<12:56,  1.05s/it]\u001b[A\n",
      "Iteration:  18%|█████████████████████▉                                                                                                 | 167/904 [03:34<12:54,  1.05s/it]\u001b[A\n",
      "Iteration:  19%|██████████████████████                                                                                                 | 168/904 [03:35<12:43,  1.04s/it]\u001b[A\n",
      "Iteration:  19%|██████████████████████▏                                                                                                | 169/904 [03:36<12:43,  1.04s/it]\u001b[A\n",
      "Iteration:  19%|██████████████████████▍                                                                                                | 170/904 [03:37<12:57,  1.06s/it]\u001b[A\n",
      "Iteration:  19%|██████████████████████▌                                                                                                | 171/904 [03:39<13:18,  1.09s/it]\u001b[A\n",
      "Iteration:  19%|██████████████████████▋                                                                                                | 172/904 [03:40<13:11,  1.08s/it]\u001b[A\n",
      "Iteration:  19%|██████████████████████▊                                                                                                | 173/904 [03:41<13:08,  1.08s/it]\u001b[A\n",
      "Iteration:  19%|██████████████████████▉                                                                                                | 174/904 [03:42<13:03,  1.07s/it]\u001b[A\n",
      "Iteration:  19%|███████████████████████                                                                                                | 175/904 [03:43<13:05,  1.08s/it]\u001b[A\n",
      "Iteration:  19%|███████████████████████▏                                                                                               | 176/904 [03:44<13:00,  1.07s/it]\u001b[A\n",
      "Iteration:  20%|███████████████████████▎                                                                                               | 177/904 [03:45<12:55,  1.07s/it]\u001b[A\n",
      "Iteration:  20%|███████████████████████▍                                                                                               | 178/904 [03:46<12:49,  1.06s/it]\u001b[A\n",
      "Iteration:  20%|███████████████████████▌                                                                                               | 179/904 [03:46<12:35,  1.04s/it]\u001b[A\n",
      "Iteration:  20%|███████████████████████▋                                                                                               | 180/904 [03:47<12:33,  1.04s/it]\u001b[A\n",
      "Iteration:  20%|███████████████████████▊                                                                                               | 181/904 [03:48<12:31,  1.04s/it]\u001b[A\n",
      "Iteration:  20%|███████████████████████▉                                                                                               | 182/904 [03:49<12:30,  1.04s/it]\u001b[A\n",
      "Iteration:  20%|████████████████████████                                                                                               | 183/904 [03:51<12:34,  1.05s/it]\u001b[A\n"
     ]
    },
    {
     "name": "stderr",
     "output_type": "stream",
     "text": [
      "Iteration:  20%|████████████████████████▏                                                                                              | 184/904 [03:51<12:21,  1.03s/it]\u001b[A\n",
      "Iteration:  20%|████████████████████████▎                                                                                              | 185/904 [03:52<12:12,  1.02s/it]\u001b[A\n",
      "Iteration:  21%|████████████████████████▍                                                                                              | 186/904 [03:53<12:11,  1.02s/it]\u001b[A\n",
      "Iteration:  21%|████████████████████████▌                                                                                              | 187/904 [03:55<12:23,  1.04s/it]\u001b[A\n",
      "Iteration:  21%|████████████████████████▋                                                                                              | 188/904 [03:56<12:38,  1.06s/it]\u001b[A\n",
      "Iteration:  21%|████████████████████████▉                                                                                              | 189/904 [03:57<12:39,  1.06s/it]\u001b[A\n",
      "Iteration:  21%|█████████████████████████                                                                                              | 190/904 [03:59<12:50,  1.08s/it]\u001b[A\n",
      "Iteration:  21%|█████████████████████████▏                                                                                             | 191/904 [04:00<13:12,  1.11s/it]\u001b[A\n",
      "Iteration:  21%|█████████████████████████▎                                                                                             | 192/904 [04:01<13:13,  1.11s/it]\u001b[A\n",
      "Iteration:  21%|█████████████████████████▍                                                                                             | 193/904 [04:03<13:32,  1.14s/it]\u001b[A\n",
      "Iteration:  21%|█████████████████████████▌                                                                                             | 194/904 [04:04<13:36,  1.15s/it]\u001b[A\n",
      "Iteration:  22%|█████████████████████████▋                                                                                             | 195/904 [04:05<13:27,  1.14s/it]\u001b[A\n",
      "Iteration:  22%|█████████████████████████▊                                                                                             | 196/904 [04:06<13:14,  1.12s/it]\u001b[A\n",
      "Iteration:  22%|█████████████████████████▉                                                                                             | 197/904 [04:07<13:09,  1.12s/it]\u001b[A\n",
      "Iteration:  22%|██████████████████████████                                                                                             | 198/904 [04:08<12:58,  1.10s/it]\u001b[A\n",
      "Iteration:  22%|██████████████████████████▏                                                                                            | 199/904 [04:10<13:20,  1.14s/it]\u001b[A\n",
      "Iteration:  22%|██████████████████████████▎                                                                                            | 200/904 [04:11<13:29,  1.15s/it]\u001b[A\n",
      "Iteration:  22%|██████████████████████████▍                                                                                            | 201/904 [04:14<14:12,  1.21s/it]\u001b[A\n",
      "Iteration:  22%|██████████████████████████▌                                                                                            | 202/904 [04:15<14:04,  1.20s/it]\u001b[A\n",
      "Iteration:  22%|██████████████████████████▋                                                                                            | 203/904 [04:16<13:54,  1.19s/it]\u001b[A\n",
      "Iteration:  23%|██████████████████████████▊                                                                                            | 204/904 [04:16<13:43,  1.18s/it]\u001b[A\n",
      "Iteration:  23%|██████████████████████████▉                                                                                            | 205/904 [04:18<13:41,  1.18s/it]\u001b[A\n",
      "Iteration:  23%|███████████████████████████                                                                                            | 206/904 [04:19<13:48,  1.19s/it]\u001b[A\n",
      "Iteration:  23%|███████████████████████████▏                                                                                           | 207/904 [04:21<14:15,  1.23s/it]\u001b[A\n",
      "Iteration:  23%|███████████████████████████▍                                                                                           | 208/904 [04:24<15:30,  1.34s/it]\u001b[A\n",
      "Iteration:  23%|███████████████████████████▌                                                                                           | 209/904 [04:28<16:32,  1.43s/it]\u001b[A\n",
      "Iteration:  23%|███████████████████████████▋                                                                                           | 210/904 [04:31<17:26,  1.51s/it]\u001b[A\n",
      "Iteration:  23%|███████████████████████████▊                                                                                           | 211/904 [04:37<20:22,  1.76s/it]\u001b[A\n",
      "Iteration:  23%|███████████████████████████▉                                                                                           | 212/904 [04:47<24:42,  2.14s/it]\u001b[A\n",
      "Iteration:  24%|████████████████████████████                                                                                           | 213/904 [04:53<27:11,  2.36s/it]\u001b[A\n",
      "Iteration:  24%|████████████████████████████▏                                                                                          | 214/904 [04:57<27:44,  2.41s/it]\u001b[A\n",
      "Iteration:  24%|████████████████████████████▎                                                                                          | 215/904 [04:59<27:34,  2.40s/it]\u001b[A\n",
      "Iteration:  24%|████████████████████████████▍                                                                                          | 216/904 [05:01<27:28,  2.40s/it]\u001b[A\n",
      "Iteration:  24%|████████████████████████████▌                                                                                          | 217/904 [05:03<27:15,  2.38s/it]\u001b[A\n",
      "Iteration:  24%|████████████████████████████▋                                                                                          | 218/904 [05:06<27:14,  2.38s/it]\u001b[A\n",
      "Iteration:  24%|████████████████████████████▊                                                                                          | 219/904 [05:07<26:38,  2.33s/it]\u001b[A\n",
      "Iteration:  24%|████████████████████████████▉                                                                                          | 220/904 [05:08<25:57,  2.28s/it]\u001b[A\n",
      "Iteration:  24%|█████████████████████████████                                                                                          | 221/904 [05:10<25:29,  2.24s/it]\u001b[A\n",
      "Iteration:  25%|█████████████████████████████▏                                                                                         | 222/904 [05:11<24:58,  2.20s/it]\u001b[A\n",
      "Iteration:  25%|█████████████████████████████▎                                                                                         | 223/904 [05:12<24:19,  2.14s/it]\u001b[A\n",
      "Iteration:  25%|█████████████████████████████▍                                                                                         | 224/904 [05:14<24:03,  2.12s/it]\u001b[A\n",
      "Iteration:  25%|█████████████████████████████▌                                                                                         | 225/904 [05:15<23:36,  2.09s/it]\u001b[A\n",
      "Iteration:  25%|█████████████████████████████▊                                                                                         | 226/904 [05:17<23:11,  2.05s/it]\u001b[A\n",
      "Iteration:  25%|█████████████████████████████▉                                                                                         | 227/904 [05:19<23:27,  2.08s/it]\u001b[A\n",
      "Iteration:  25%|██████████████████████████████                                                                                         | 228/904 [05:21<23:18,  2.07s/it]\u001b[A\n",
      "Iteration:  25%|██████████████████████████████▏                                                                                        | 229/904 [05:22<22:37,  2.01s/it]\u001b[A\n",
      "Iteration:  25%|██████████████████████████████▎                                                                                        | 230/904 [05:23<22:01,  1.96s/it]\u001b[A\n"
     ]
    },
    {
     "name": "stderr",
     "output_type": "stream",
     "text": [
      "Iteration:  26%|██████████████████████████████▍                                                                                        | 231/904 [05:24<21:28,  1.91s/it]\u001b[A\n",
      "Iteration:  26%|██████████████████████████████▌                                                                                        | 232/904 [05:25<20:55,  1.87s/it]\u001b[A\n",
      "Iteration:  26%|██████████████████████████████▋                                                                                        | 233/904 [05:26<20:37,  1.84s/it]\u001b[A\n",
      "Iteration:  26%|██████████████████████████████▊                                                                                        | 234/904 [05:28<20:29,  1.83s/it]\u001b[A\n",
      "Iteration:  26%|██████████████████████████████▉                                                                                        | 235/904 [05:30<20:26,  1.83s/it]\u001b[A\n",
      "Iteration:  26%|███████████████████████████████                                                                                        | 236/904 [05:31<19:59,  1.80s/it]\u001b[A\n",
      "Iteration:  26%|███████████████████████████████▏                                                                                       | 237/904 [05:32<19:31,  1.76s/it]\u001b[A\n",
      "Iteration:  26%|███████████████████████████████▎                                                                                       | 238/904 [05:33<19:18,  1.74s/it]\u001b[A\n",
      "Iteration:  26%|███████████████████████████████▍                                                                                       | 239/904 [05:36<19:29,  1.76s/it]\u001b[A\n",
      "Iteration:  27%|███████████████████████████████▌                                                                                       | 240/904 [05:37<19:13,  1.74s/it]\u001b[A\n",
      "Iteration:  27%|███████████████████████████████▋                                                                                       | 241/904 [05:38<18:46,  1.70s/it]\u001b[A\n",
      "Iteration:  27%|███████████████████████████████▊                                                                                       | 242/904 [05:39<18:19,  1.66s/it]\u001b[A\n",
      "Iteration:  27%|███████████████████████████████▉                                                                                       | 243/904 [05:40<18:06,  1.64s/it]\u001b[A\n",
      "Iteration:  27%|████████████████████████████████                                                                                       | 244/904 [05:41<17:55,  1.63s/it]\u001b[A\n",
      "Iteration:  27%|████████████████████████████████▎                                                                                      | 245/904 [05:44<18:10,  1.65s/it]\u001b[A\n",
      "Iteration:  27%|████████████████████████████████▍                                                                                      | 246/904 [05:45<18:15,  1.67s/it]\u001b[A\n",
      "Iteration:  27%|████████████████████████████████▌                                                                                      | 247/904 [05:47<17:56,  1.64s/it]\u001b[A\n",
      "Iteration:  27%|████████████████████████████████▋                                                                                      | 248/904 [05:48<17:46,  1.63s/it]\u001b[A\n",
      "Iteration:  28%|████████████████████████████████▊                                                                                      | 249/904 [05:50<17:54,  1.64s/it]\u001b[A\n",
      "Iteration:  28%|████████████████████████████████▉                                                                                      | 250/904 [05:51<17:33,  1.61s/it]\u001b[A\n",
      "Iteration:  28%|█████████████████████████████████                                                                                      | 251/904 [05:52<17:22,  1.60s/it]\u001b[A\n",
      "Iteration:  28%|█████████████████████████████████▏                                                                                     | 252/904 [05:54<17:11,  1.58s/it]\u001b[A\n",
      "Iteration:  28%|█████████████████████████████████▎                                                                                     | 253/904 [05:55<17:03,  1.57s/it]\u001b[A\n",
      "Iteration:  28%|█████████████████████████████████▍                                                                                     | 254/904 [05:56<16:41,  1.54s/it]\u001b[A\n",
      "Iteration:  28%|█████████████████████████████████▌                                                                                     | 255/904 [05:57<16:31,  1.53s/it]\u001b[A\n",
      "Iteration:  28%|█████████████████████████████████▋                                                                                     | 256/904 [05:59<16:24,  1.52s/it]\u001b[A\n",
      "Iteration:  28%|█████████████████████████████████▊                                                                                     | 257/904 [05:59<16:00,  1.48s/it]\u001b[A\n",
      "Iteration:  29%|█████████████████████████████████▉                                                                                     | 258/904 [06:00<15:46,  1.46s/it]\u001b[A\n",
      "Iteration:  29%|██████████████████████████████████                                                                                     | 259/904 [06:01<15:27,  1.44s/it]\u001b[A\n",
      "Iteration:  29%|██████████████████████████████████▏                                                                                    | 260/904 [06:03<15:18,  1.43s/it]\u001b[A\n",
      "Iteration:  29%|██████████████████████████████████▎                                                                                    | 261/904 [06:03<14:56,  1.39s/it]\u001b[A\n",
      "Iteration:  29%|██████████████████████████████████▍                                                                                    | 262/904 [06:05<14:47,  1.38s/it]\u001b[A\n",
      "Iteration:  29%|██████████████████████████████████▌                                                                                    | 263/904 [06:06<14:40,  1.37s/it]\u001b[A\n",
      "Iteration:  29%|██████████████████████████████████▊                                                                                    | 264/904 [06:07<14:29,  1.36s/it]\u001b[A\n",
      "Iteration:  29%|██████████████████████████████████▉                                                                                    | 265/904 [06:08<14:14,  1.34s/it]\u001b[A\n",
      "Iteration:  29%|███████████████████████████████████                                                                                    | 266/904 [06:09<14:08,  1.33s/it]\u001b[A\n",
      "Iteration:  30%|███████████████████████████████████▏                                                                                   | 267/904 [06:10<13:46,  1.30s/it]\u001b[A\n",
      "Iteration:  30%|███████████████████████████████████▎                                                                                   | 268/904 [06:11<13:35,  1.28s/it]\u001b[A\n",
      "Iteration:  30%|███████████████████████████████████▍                                                                                   | 269/904 [06:12<13:37,  1.29s/it]\u001b[A\n",
      "Iteration:  30%|███████████████████████████████████▌                                                                                   | 270/904 [06:13<13:26,  1.27s/it]\u001b[A\n",
      "Iteration:  30%|███████████████████████████████████▋                                                                                   | 271/904 [06:14<13:15,  1.26s/it]\u001b[A\n",
      "Iteration:  30%|███████████████████████████████████▊                                                                                   | 272/904 [06:15<12:54,  1.23s/it]\u001b[A\n",
      "Iteration:  30%|███████████████████████████████████▉                                                                                   | 273/904 [06:16<12:48,  1.22s/it]\u001b[A\n",
      "Iteration:  30%|████████████████████████████████████                                                                                   | 274/904 [06:17<12:35,  1.20s/it]\u001b[A\n",
      "Iteration:  30%|████████████████████████████████████▏                                                                                  | 275/904 [06:18<12:35,  1.20s/it]\u001b[A\n",
      "Iteration:  31%|████████████████████████████████████▎                                                                                  | 276/904 [06:19<12:33,  1.20s/it]\u001b[A\n",
      "Iteration:  31%|████████████████████████████████████▍                                                                                  | 277/904 [06:20<12:26,  1.19s/it]\u001b[A\n"
     ]
    },
    {
     "name": "stderr",
     "output_type": "stream",
     "text": [
      "Iteration:  31%|████████████████████████████████████▌                                                                                  | 278/904 [06:21<12:19,  1.18s/it]\u001b[A\n",
      "Iteration:  31%|████████████████████████████████████▋                                                                                  | 279/904 [06:22<12:01,  1.15s/it]\u001b[A\n",
      "Iteration:  31%|████████████████████████████████████▊                                                                                  | 280/904 [06:23<11:56,  1.15s/it]\u001b[A\n",
      "Iteration:  31%|████████████████████████████████████▉                                                                                  | 281/904 [06:23<11:44,  1.13s/it]\u001b[A\n",
      "Iteration:  31%|█████████████████████████████████████                                                                                  | 282/904 [06:24<11:38,  1.12s/it]\u001b[A\n",
      "Iteration:  31%|█████████████████████████████████████▎                                                                                 | 283/904 [06:25<11:27,  1.11s/it]\u001b[A\n",
      "Iteration:  31%|█████████████████████████████████████▍                                                                                 | 284/904 [06:26<11:26,  1.11s/it]\u001b[A\n",
      "Iteration:  32%|█████████████████████████████████████▌                                                                                 | 285/904 [06:27<11:27,  1.11s/it]\u001b[A\n",
      "Iteration:  32%|█████████████████████████████████████▋                                                                                 | 286/904 [06:29<11:28,  1.11s/it]\u001b[A\n",
      "Iteration:  32%|█████████████████████████████████████▊                                                                                 | 287/904 [06:30<11:24,  1.11s/it]\u001b[A\n",
      "Iteration:  32%|█████████████████████████████████████▉                                                                                 | 288/904 [06:31<11:26,  1.11s/it]\u001b[A\n",
      "Iteration:  32%|██████████████████████████████████████                                                                                 | 289/904 [06:32<11:20,  1.11s/it]\u001b[A\n",
      "Iteration:  32%|██████████████████████████████████████▏                                                                                | 290/904 [06:33<11:17,  1.10s/it]\u001b[A\n",
      "Iteration:  32%|██████████████████████████████████████▎                                                                                | 291/904 [06:34<11:13,  1.10s/it]\u001b[A\n",
      "Iteration:  32%|██████████████████████████████████████▍                                                                                | 292/904 [06:35<11:07,  1.09s/it]\u001b[A\n",
      "Iteration:  32%|██████████████████████████████████████▌                                                                                | 293/904 [06:36<11:01,  1.08s/it]\u001b[A\n",
      "Iteration:  33%|██████████████████████████████████████▋                                                                                | 294/904 [06:37<10:56,  1.08s/it]\u001b[A\n",
      "Iteration:  33%|██████████████████████████████████████▊                                                                                | 295/904 [06:38<11:05,  1.09s/it]\u001b[A\n",
      "Iteration:  33%|██████████████████████████████████████▉                                                                                | 296/904 [06:39<11:11,  1.10s/it]\u001b[A\n",
      "Iteration:  33%|███████████████████████████████████████                                                                                | 297/904 [06:40<11:07,  1.10s/it]\u001b[A\n",
      "Iteration:  33%|███████████████████████████████████████▏                                                                               | 298/904 [06:42<11:21,  1.13s/it]\u001b[A\n",
      "Iteration:  33%|███████████████████████████████████████▎                                                                               | 299/904 [06:44<11:31,  1.14s/it]\u001b[A\n",
      "Iteration:  33%|███████████████████████████████████████▍                                                                               | 300/904 [06:45<11:41,  1.16s/it]\u001b[A\n",
      "Iteration:  33%|███████████████████████████████████████▌                                                                               | 301/904 [06:47<11:48,  1.18s/it]\u001b[A\n",
      "Iteration:  33%|███████████████████████████████████████▊                                                                               | 302/904 [06:48<11:59,  1.19s/it]\u001b[A\n",
      "Iteration:  34%|███████████████████████████████████████▉                                                                               | 303/904 [06:50<12:08,  1.21s/it]\u001b[A\n",
      "Iteration:  34%|████████████████████████████████████████                                                                               | 304/904 [06:52<12:31,  1.25s/it]\u001b[A\n",
      "Iteration:  34%|████████████████████████████████████████▏                                                                              | 305/904 [06:53<12:25,  1.24s/it]\u001b[A\n",
      "Iteration:  34%|████████████████████████████████████████▎                                                                              | 306/904 [06:54<12:23,  1.24s/it]\u001b[A\n",
      "Iteration:  34%|████████████████████████████████████████▍                                                                              | 307/904 [06:56<12:32,  1.26s/it]\u001b[A\n",
      "Iteration:  34%|████████████████████████████████████████▌                                                                              | 308/904 [06:57<12:31,  1.26s/it]\u001b[A\n",
      "Iteration:  34%|████████████████████████████████████████▋                                                                              | 309/904 [06:58<12:20,  1.24s/it]\u001b[A\n",
      "Iteration:  34%|████████████████████████████████████████▊                                                                              | 310/904 [06:59<12:05,  1.22s/it]\u001b[A\n",
      "Iteration:  34%|████████████████████████████████████████▉                                                                              | 311/904 [07:00<12:04,  1.22s/it]\u001b[A\n",
      "Iteration:  35%|█████████████████████████████████████████                                                                              | 312/904 [07:01<12:03,  1.22s/it]\u001b[A\n",
      "Iteration:  35%|█████████████████████████████████████████▏                                                                             | 313/904 [07:02<12:03,  1.22s/it]\u001b[A\n",
      "Iteration:  35%|█████████████████████████████████████████▎                                                                             | 314/904 [07:04<12:17,  1.25s/it]\u001b[A\n",
      "Iteration:  35%|█████████████████████████████████████████▍                                                                             | 315/904 [07:05<12:07,  1.24s/it]\u001b[A\n",
      "Iteration:  35%|█████████████████████████████████████████▌                                                                             | 316/904 [07:06<11:54,  1.22s/it]\u001b[A\n",
      "Iteration:  35%|█████████████████████████████████████████▋                                                                             | 317/904 [07:08<12:19,  1.26s/it]\u001b[A\n",
      "Iteration:  35%|█████████████████████████████████████████▊                                                                             | 318/904 [07:09<12:18,  1.26s/it]\u001b[A\n",
      "Iteration:  35%|█████████████████████████████████████████▉                                                                             | 319/904 [07:10<12:18,  1.26s/it]\u001b[A\n",
      "Iteration:  35%|██████████████████████████████████████████                                                                             | 320/904 [07:12<12:15,  1.26s/it]\u001b[A\n",
      "Iteration:  36%|██████████████████████████████████████████▎                                                                            | 321/904 [07:13<12:02,  1.24s/it]\u001b[A\n",
      "Iteration:  36%|██████████████████████████████████████████▍                                                                            | 322/904 [07:15<12:22,  1.28s/it]\u001b[A\n",
      "Iteration:  36%|██████████████████████████████████████████▌                                                                            | 323/904 [07:15<12:11,  1.26s/it]\u001b[A\n",
      "Iteration:  36%|██████████████████████████████████████████▋                                                                            | 324/904 [07:16<12:04,  1.25s/it]\u001b[A\n"
     ]
    },
    {
     "name": "stderr",
     "output_type": "stream",
     "text": [
      "Iteration:  36%|██████████████████████████████████████████▊                                                                            | 325/904 [07:18<12:06,  1.25s/it]\u001b[A\n",
      "Iteration:  36%|██████████████████████████████████████████▉                                                                            | 326/904 [07:19<12:01,  1.25s/it]\u001b[A\n",
      "Iteration:  36%|███████████████████████████████████████████                                                                            | 327/904 [07:21<12:12,  1.27s/it]\u001b[A\n",
      "Iteration:  36%|███████████████████████████████████████████▏                                                                           | 328/904 [07:22<12:00,  1.25s/it]\u001b[A\n",
      "Iteration:  36%|███████████████████████████████████████████▎                                                                           | 329/904 [07:23<11:55,  1.24s/it]\u001b[A\n",
      "Iteration:  37%|███████████████████████████████████████████▍                                                                           | 330/904 [07:24<11:42,  1.22s/it]\u001b[A\n",
      "Iteration:  37%|███████████████████████████████████████████▌                                                                           | 331/904 [07:24<11:28,  1.20s/it]\u001b[A\n",
      "Iteration:  37%|███████████████████████████████████████████▋                                                                           | 332/904 [07:25<11:13,  1.18s/it]\u001b[A\n",
      "Iteration:  37%|███████████████████████████████████████████▊                                                                           | 333/904 [07:26<11:01,  1.16s/it]\u001b[A\n",
      "Iteration:  37%|███████████████████████████████████████████▉                                                                           | 334/904 [07:27<10:56,  1.15s/it]\u001b[A\n",
      "Iteration:  37%|████████████████████████████████████████████                                                                           | 335/904 [07:28<10:49,  1.14s/it]\u001b[A\n",
      "Iteration:  37%|████████████████████████████████████████████▏                                                                          | 336/904 [07:29<10:38,  1.12s/it]\u001b[A\n",
      "Iteration:  37%|████████████████████████████████████████████▎                                                                          | 337/904 [07:29<10:26,  1.10s/it]\u001b[A\n",
      "Iteration:  37%|████████████████████████████████████████████▍                                                                          | 338/904 [07:30<10:16,  1.09s/it]\u001b[A\n",
      "Iteration:  38%|████████████████████████████████████████████▋                                                                          | 339/904 [07:32<10:24,  1.11s/it]\u001b[A\n",
      "Iteration:  38%|████████████████████████████████████████████▊                                                                          | 340/904 [07:32<10:16,  1.09s/it]\u001b[A\n",
      "Iteration:  38%|████████████████████████████████████████████▉                                                                          | 341/904 [07:33<10:15,  1.09s/it]\u001b[A\n",
      "Iteration:  38%|█████████████████████████████████████████████                                                                          | 342/904 [07:35<10:16,  1.10s/it]\u001b[A\n",
      "Iteration:  38%|█████████████████████████████████████████████▏                                                                         | 343/904 [07:36<10:25,  1.11s/it]\u001b[A\n",
      "Iteration:  38%|█████████████████████████████████████████████▎                                                                         | 344/904 [07:38<10:57,  1.17s/it]\u001b[A\n",
      "Iteration:  38%|█████████████████████████████████████████████▍                                                                         | 345/904 [07:39<10:50,  1.16s/it]\u001b[A\n",
      "Iteration:  38%|█████████████████████████████████████████████▌                                                                         | 346/904 [07:41<10:50,  1.17s/it]\u001b[A\n",
      "Iteration:  38%|█████████████████████████████████████████████▋                                                                         | 347/904 [07:42<10:47,  1.16s/it]\u001b[A\n",
      "Iteration:  38%|█████████████████████████████████████████████▊                                                                         | 348/904 [07:43<10:41,  1.15s/it]\u001b[A\n",
      "Iteration:  39%|█████████████████████████████████████████████▉                                                                         | 349/904 [07:44<10:38,  1.15s/it]\u001b[A\n",
      "Iteration:  39%|██████████████████████████████████████████████                                                                         | 350/904 [07:45<10:29,  1.14s/it]\u001b[A\n",
      "Iteration:  39%|██████████████████████████████████████████████▏                                                                        | 351/904 [07:46<10:23,  1.13s/it]\u001b[A\n",
      "Iteration:  39%|██████████████████████████████████████████████▎                                                                        | 352/904 [07:47<10:20,  1.12s/it]\u001b[A\n",
      "Iteration:  39%|██████████████████████████████████████████████▍                                                                        | 353/904 [07:48<10:16,  1.12s/it]\u001b[A\n",
      "Iteration:  39%|██████████████████████████████████████████████▌                                                                        | 354/904 [07:48<10:06,  1.10s/it]\u001b[A\n",
      "Iteration:  39%|██████████████████████████████████████████████▋                                                                        | 355/904 [07:49<10:02,  1.10s/it]\u001b[A\n",
      "Iteration:  39%|██████████████████████████████████████████████▊                                                                        | 356/904 [07:50<09:58,  1.09s/it]\u001b[A\n",
      "Iteration:  39%|██████████████████████████████████████████████▉                                                                        | 357/904 [07:51<09:56,  1.09s/it]\u001b[A\n",
      "Iteration:  40%|███████████████████████████████████████████████▏                                                                       | 358/904 [07:52<09:46,  1.07s/it]\u001b[A\n",
      "Iteration:  40%|███████████████████████████████████████████████▎                                                                       | 359/904 [07:53<09:36,  1.06s/it]\u001b[A\n",
      "Iteration:  40%|███████████████████████████████████████████████▍                                                                       | 360/904 [07:54<09:45,  1.08s/it]\u001b[A\n",
      "Iteration:  40%|███████████████████████████████████████████████▌                                                                       | 361/904 [07:55<09:39,  1.07s/it]\u001b[A\n",
      "Iteration:  40%|███████████████████████████████████████████████▋                                                                       | 362/904 [07:56<09:28,  1.05s/it]\u001b[A\n",
      "Iteration:  40%|███████████████████████████████████████████████▊                                                                       | 363/904 [07:57<09:29,  1.05s/it]\u001b[A\n",
      "Iteration:  40%|███████████████████████████████████████████████▉                                                                       | 364/904 [07:58<09:28,  1.05s/it]\u001b[A\n",
      "Iteration:  40%|████████████████████████████████████████████████                                                                       | 365/904 [07:59<09:28,  1.05s/it]\u001b[A\n",
      "Iteration:  40%|████████████████████████████████████████████████▏                                                                      | 366/904 [08:00<09:20,  1.04s/it]\u001b[A\n",
      "Iteration:  41%|████████████████████████████████████████████████▎                                                                      | 367/904 [08:01<09:14,  1.03s/it]\u001b[A\n",
      "Iteration:  41%|████████████████████████████████████████████████▍                                                                      | 368/904 [08:02<09:07,  1.02s/it]\u001b[A\n",
      "Iteration:  41%|████████████████████████████████████████████████▌                                                                      | 369/904 [08:03<09:04,  1.02s/it]\u001b[A\n",
      "Iteration:  41%|████████████████████████████████████████████████▋                                                                      | 370/904 [08:04<09:02,  1.02s/it]\u001b[A\n",
      "Iteration:  41%|████████████████████████████████████████████████▊                                                                      | 371/904 [08:05<09:02,  1.02s/it]\u001b[A\n"
     ]
    },
    {
     "name": "stderr",
     "output_type": "stream",
     "text": [
      "Iteration:  41%|████████████████████████████████████████████████▉                                                                      | 372/904 [08:06<09:03,  1.02s/it]\u001b[A\n",
      "Iteration:  41%|█████████████████████████████████████████████████                                                                      | 373/904 [08:07<08:56,  1.01s/it]\u001b[A\n",
      "Iteration:  41%|█████████████████████████████████████████████████▏                                                                     | 374/904 [08:08<09:02,  1.02s/it]\u001b[A\n",
      "Iteration:  41%|█████████████████████████████████████████████████▎                                                                     | 375/904 [08:09<08:56,  1.01s/it]\u001b[A\n",
      "Iteration:  42%|█████████████████████████████████████████████████▍                                                                     | 376/904 [08:10<08:53,  1.01s/it]\u001b[A\n",
      "Iteration:  42%|█████████████████████████████████████████████████▋                                                                     | 377/904 [08:12<09:31,  1.09s/it]\u001b[A\n",
      "Iteration:  42%|█████████████████████████████████████████████████▊                                                                     | 378/904 [08:14<09:44,  1.11s/it]\u001b[A\n",
      "Iteration:  42%|█████████████████████████████████████████████████▉                                                                     | 379/904 [08:15<09:33,  1.09s/it]\u001b[A\n",
      "Iteration:  42%|██████████████████████████████████████████████████                                                                     | 380/904 [08:15<09:20,  1.07s/it]\u001b[A\n",
      "Iteration:  42%|██████████████████████████████████████████████████▏                                                                    | 381/904 [08:16<09:20,  1.07s/it]\u001b[A\n",
      "Iteration:  42%|██████████████████████████████████████████████████▎                                                                    | 382/904 [08:17<09:14,  1.06s/it]\u001b[A\n",
      "Iteration:  42%|██████████████████████████████████████████████████▍                                                                    | 383/904 [08:18<09:10,  1.06s/it]\u001b[A\n",
      "Iteration:  42%|██████████████████████████████████████████████████▌                                                                    | 384/904 [08:19<09:05,  1.05s/it]\u001b[A\n",
      "Iteration:  43%|██████████████████████████████████████████████████▋                                                                    | 385/904 [08:20<08:58,  1.04s/it]\u001b[A\n",
      "Iteration:  43%|██████████████████████████████████████████████████▊                                                                    | 386/904 [08:21<08:51,  1.03s/it]\u001b[A\n",
      "Iteration:  43%|██████████████████████████████████████████████████▉                                                                    | 387/904 [08:21<08:43,  1.01s/it]\u001b[A\n",
      "Iteration:  43%|███████████████████████████████████████████████████                                                                    | 388/904 [08:22<08:40,  1.01s/it]\u001b[A\n",
      "Iteration:  43%|███████████████████████████████████████████████████▏                                                                   | 389/904 [08:24<08:44,  1.02s/it]\u001b[A\n",
      "Iteration:  43%|███████████████████████████████████████████████████▎                                                                   | 390/904 [08:25<08:46,  1.02s/it]\u001b[A\n",
      "Iteration:  43%|███████████████████████████████████████████████████▍                                                                   | 391/904 [08:26<08:41,  1.02s/it]\u001b[A\n",
      "Iteration:  43%|███████████████████████████████████████████████████▌                                                                   | 392/904 [08:27<08:48,  1.03s/it]\u001b[A\n",
      "Iteration:  43%|███████████████████████████████████████████████████▋                                                                   | 393/904 [08:28<08:45,  1.03s/it]\u001b[A\n",
      "Iteration:  44%|███████████████████████████████████████████████████▊                                                                   | 394/904 [08:29<08:48,  1.04s/it]\u001b[A\n",
      "Iteration:  44%|███████████████████████████████████████████████████▉                                                                   | 395/904 [08:30<08:37,  1.02s/it]\u001b[A\n",
      "Iteration:  44%|████████████████████████████████████████████████████▏                                                                  | 396/904 [08:30<08:27,  1.00it/s]\u001b[A\n",
      "Iteration:  44%|████████████████████████████████████████████████████▎                                                                  | 397/904 [08:31<08:26,  1.00it/s]\u001b[A\n",
      "Iteration:  44%|████████████████████████████████████████████████████▍                                                                  | 398/904 [08:33<08:34,  1.02s/it]\u001b[A\n",
      "Iteration:  44%|████████████████████████████████████████████████████▌                                                                  | 399/904 [08:34<08:34,  1.02s/it]\u001b[A\n",
      "Iteration:  44%|████████████████████████████████████████████████████▋                                                                  | 400/904 [08:35<08:49,  1.05s/it]\u001b[A\n",
      "Iteration:  44%|████████████████████████████████████████████████████▊                                                                  | 401/904 [08:36<08:50,  1.05s/it]\u001b[A\n",
      "Iteration:  44%|████████████████████████████████████████████████████▉                                                                  | 402/904 [08:38<08:51,  1.06s/it]\u001b[A\n",
      "Iteration:  45%|█████████████████████████████████████████████████████                                                                  | 403/904 [08:40<09:29,  1.14s/it]\u001b[A\n",
      "Iteration:  45%|█████████████████████████████████████████████████████▏                                                                 | 404/904 [08:42<09:35,  1.15s/it]\u001b[A\n",
      "Iteration:  45%|█████████████████████████████████████████████████████▎                                                                 | 405/904 [08:43<09:29,  1.14s/it]\u001b[A\n",
      "Iteration:  45%|█████████████████████████████████████████████████████▍                                                                 | 406/904 [08:43<09:20,  1.13s/it]\u001b[A\n",
      "Iteration:  45%|█████████████████████████████████████████████████████▌                                                                 | 407/904 [08:45<09:27,  1.14s/it]\u001b[A\n",
      "Iteration:  45%|█████████████████████████████████████████████████████▋                                                                 | 408/904 [08:46<09:29,  1.15s/it]\u001b[A\n",
      "Iteration:  45%|█████████████████████████████████████████████████████▊                                                                 | 409/904 [08:47<09:30,  1.15s/it]\u001b[A\n",
      "Iteration:  45%|█████████████████████████████████████████████████████▉                                                                 | 410/904 [08:49<09:29,  1.15s/it]\u001b[A\n",
      "Iteration:  45%|██████████████████████████████████████████████████████                                                                 | 411/904 [08:50<09:27,  1.15s/it]\u001b[A\n",
      "Iteration:  46%|██████████████████████████████████████████████████████▏                                                                | 412/904 [08:51<09:29,  1.16s/it]\u001b[A\n",
      "Iteration:  46%|██████████████████████████████████████████████████████▎                                                                | 413/904 [08:52<09:34,  1.17s/it]\u001b[A\n",
      "Iteration:  46%|██████████████████████████████████████████████████████▍                                                                | 414/904 [08:54<09:43,  1.19s/it]\u001b[A\n",
      "Iteration:  46%|██████████████████████████████████████████████████████▋                                                                | 415/904 [08:56<09:55,  1.22s/it]\u001b[A\n",
      "Iteration:  46%|██████████████████████████████████████████████████████▊                                                                | 416/904 [08:57<09:52,  1.21s/it]\u001b[A\n",
      "Iteration:  46%|██████████████████████████████████████████████████████▉                                                                | 417/904 [08:59<10:21,  1.28s/it]\u001b[A\n",
      "Iteration:  46%|███████████████████████████████████████████████████████                                                                | 418/904 [09:01<10:18,  1.27s/it]\u001b[A\n"
     ]
    },
    {
     "name": "stderr",
     "output_type": "stream",
     "text": [
      "Iteration:  46%|███████████████████████████████████████████████████████▏                                                               | 419/904 [09:02<10:20,  1.28s/it]\u001b[A\n",
      "Iteration:  46%|███████████████████████████████████████████████████████▎                                                               | 420/904 [09:03<10:16,  1.27s/it]\u001b[A\n",
      "Iteration:  47%|███████████████████████████████████████████████████████▍                                                               | 421/904 [09:04<10:10,  1.26s/it]\u001b[A\n",
      "Iteration:  47%|███████████████████████████████████████████████████████▌                                                               | 422/904 [09:05<10:06,  1.26s/it]\u001b[A\n",
      "Iteration:  47%|███████████████████████████████████████████████████████▋                                                               | 423/904 [09:06<09:55,  1.24s/it]\u001b[A\n",
      "Iteration:  47%|███████████████████████████████████████████████████████▊                                                               | 424/904 [09:07<09:52,  1.23s/it]\u001b[A\n",
      "Iteration:  47%|███████████████████████████████████████████████████████▉                                                               | 425/904 [09:08<09:45,  1.22s/it]\u001b[A\n",
      "Iteration:  47%|████████████████████████████████████████████████████████                                                               | 426/904 [09:09<09:42,  1.22s/it]\u001b[A\n",
      "Iteration:  47%|████████████████████████████████████████████████████████▏                                                              | 427/904 [09:10<09:36,  1.21s/it]\u001b[A\n",
      "Iteration:  47%|████████████████████████████████████████████████████████▎                                                              | 428/904 [09:11<09:23,  1.18s/it]\u001b[A\n",
      "Iteration:  47%|████████████████████████████████████████████████████████▍                                                              | 429/904 [09:13<09:27,  1.19s/it]\u001b[A\n",
      "Iteration:  48%|████████████████████████████████████████████████████████▌                                                              | 430/904 [09:14<09:28,  1.20s/it]\u001b[A\n",
      "Iteration:  48%|████████████████████████████████████████████████████████▋                                                              | 431/904 [09:15<09:19,  1.18s/it]\u001b[A\n",
      "Iteration:  48%|████████████████████████████████████████████████████████▊                                                              | 432/904 [09:16<09:25,  1.20s/it]\u001b[A\n",
      "Iteration:  48%|████████████████████████████████████████████████████████▉                                                              | 433/904 [09:17<09:20,  1.19s/it]\u001b[A\n",
      "Iteration:  48%|█████████████████████████████████████████████████████████▏                                                             | 434/904 [09:18<09:14,  1.18s/it]\u001b[A\n",
      "Iteration:  48%|█████████████████████████████████████████████████████████▎                                                             | 435/904 [09:19<09:09,  1.17s/it]\u001b[A\n",
      "Iteration:  48%|█████████████████████████████████████████████████████████▍                                                             | 436/904 [09:21<09:09,  1.17s/it]\u001b[A\n",
      "Iteration:  48%|█████████████████████████████████████████████████████████▌                                                             | 437/904 [09:21<09:01,  1.16s/it]\u001b[A\n",
      "Iteration:  48%|█████████████████████████████████████████████████████████▋                                                             | 438/904 [09:22<08:55,  1.15s/it]\u001b[A\n",
      "Iteration:  49%|█████████████████████████████████████████████████████████▊                                                             | 439/904 [09:23<08:44,  1.13s/it]\u001b[A\n",
      "Iteration:  49%|█████████████████████████████████████████████████████████▉                                                             | 440/904 [09:24<08:34,  1.11s/it]\u001b[A\n",
      "Iteration:  49%|██████████████████████████████████████████████████████████                                                             | 441/904 [09:25<08:26,  1.09s/it]\u001b[A\n",
      "Iteration:  49%|██████████████████████████████████████████████████████████▏                                                            | 442/904 [09:26<08:20,  1.08s/it]\u001b[A\n",
      "Iteration:  49%|██████████████████████████████████████████████████████████▎                                                            | 443/904 [09:26<08:15,  1.07s/it]\u001b[A\n",
      "Iteration:  49%|██████████████████████████████████████████████████████████▍                                                            | 444/904 [09:27<08:13,  1.07s/it]\u001b[A\n",
      "Iteration:  49%|██████████████████████████████████████████████████████████▌                                                            | 445/904 [09:28<08:02,  1.05s/it]\u001b[A\n",
      "Iteration:  49%|██████████████████████████████████████████████████████████▋                                                            | 446/904 [09:29<07:54,  1.04s/it]\u001b[A\n",
      "Iteration:  49%|██████████████████████████████████████████████████████████▊                                                            | 447/904 [09:30<07:51,  1.03s/it]\u001b[A\n",
      "Iteration:  50%|██████████████████████████████████████████████████████████▉                                                            | 448/904 [09:31<07:50,  1.03s/it]\u001b[A\n",
      "Iteration:  50%|███████████████████████████████████████████████████████████                                                            | 449/904 [09:32<07:48,  1.03s/it]\u001b[A\n",
      "Iteration:  50%|███████████████████████████████████████████████████████████▏                                                           | 450/904 [09:33<07:49,  1.03s/it]\u001b[A\n",
      "Iteration:  50%|███████████████████████████████████████████████████████████▎                                                           | 451/904 [09:34<07:44,  1.03s/it]\u001b[A\n",
      "Iteration:  50%|███████████████████████████████████████████████████████████▌                                                           | 452/904 [09:35<07:49,  1.04s/it]\u001b[A\n",
      "Iteration:  50%|███████████████████████████████████████████████████████████▋                                                           | 453/904 [09:36<07:50,  1.04s/it]\u001b[A\n",
      "Iteration:  50%|███████████████████████████████████████████████████████████▊                                                           | 454/904 [09:37<07:49,  1.04s/it]\u001b[A\n",
      "Iteration:  50%|███████████████████████████████████████████████████████████▉                                                           | 455/904 [09:38<07:46,  1.04s/it]\u001b[A\n",
      "Iteration:  50%|████████████████████████████████████████████████████████████                                                           | 456/904 [09:39<07:40,  1.03s/it]\u001b[A\n",
      "Iteration:  51%|████████████████████████████████████████████████████████████▏                                                          | 457/904 [09:40<07:30,  1.01s/it]\u001b[A\n",
      "Iteration:  51%|████████████████████████████████████████████████████████████▎                                                          | 458/904 [09:41<07:27,  1.00s/it]\u001b[A\n",
      "Iteration:  51%|████████████████████████████████████████████████████████████▍                                                          | 459/904 [09:42<07:25,  1.00s/it]\u001b[A\n",
      "Iteration:  51%|████████████████████████████████████████████████████████████▌                                                          | 460/904 [09:42<07:22,  1.00it/s]\u001b[A\n",
      "Iteration:  51%|████████████████████████████████████████████████████████████▋                                                          | 461/904 [09:43<07:18,  1.01it/s]\u001b[A\n",
      "Iteration:  51%|████████████████████████████████████████████████████████████▊                                                          | 462/904 [09:44<07:14,  1.02it/s]\u001b[A\n",
      "Iteration:  51%|████████████████████████████████████████████████████████████▉                                                          | 463/904 [09:45<07:05,  1.04it/s]\u001b[A\n",
      "Iteration:  51%|█████████████████████████████████████████████████████████████                                                          | 464/904 [09:45<06:58,  1.05it/s]\u001b[A\n",
      "Iteration:  51%|█████████████████████████████████████████████████████████████▏                                                         | 465/904 [09:46<06:54,  1.06it/s]\u001b[A\n"
     ]
    },
    {
     "name": "stderr",
     "output_type": "stream",
     "text": [
      "Iteration:  52%|█████████████████████████████████████████████████████████████▎                                                         | 466/904 [09:47<06:54,  1.06it/s]\u001b[A\n",
      "Iteration:  52%|█████████████████████████████████████████████████████████████▍                                                         | 467/904 [09:48<06:55,  1.05it/s]\u001b[A\n",
      "Iteration:  52%|█████████████████████████████████████████████████████████████▌                                                         | 468/904 [09:49<06:56,  1.05it/s]\u001b[A\n",
      "Iteration:  52%|█████████████████████████████████████████████████████████████▋                                                         | 469/904 [09:50<06:51,  1.06it/s]\u001b[A\n",
      "Iteration:  52%|█████████████████████████████████████████████████████████████▊                                                         | 470/904 [09:51<06:52,  1.05it/s]\u001b[A\n",
      "Iteration:  52%|██████████████████████████████████████████████████████████████                                                         | 471/904 [09:52<06:54,  1.04it/s]\u001b[A\n",
      "Iteration:  52%|██████████████████████████████████████████████████████████████▏                                                        | 472/904 [09:53<06:48,  1.06it/s]\u001b[A\n",
      "Iteration:  52%|██████████████████████████████████████████████████████████████▎                                                        | 473/904 [09:54<06:46,  1.06it/s]\u001b[A\n",
      "Iteration:  52%|██████████████████████████████████████████████████████████████▍                                                        | 474/904 [09:55<06:54,  1.04it/s]\u001b[A\n",
      "Iteration:  53%|██████████████████████████████████████████████████████████████▌                                                        | 475/904 [09:56<06:52,  1.04it/s]\u001b[A\n",
      "Iteration:  53%|██████████████████████████████████████████████████████████████▋                                                        | 476/904 [09:57<06:53,  1.03it/s]\u001b[A\n",
      "Iteration:  53%|██████████████████████████████████████████████████████████████▊                                                        | 477/904 [09:58<06:57,  1.02it/s]\u001b[A\n",
      "Iteration:  53%|██████████████████████████████████████████████████████████████▉                                                        | 478/904 [10:00<07:04,  1.00it/s]\u001b[A\n",
      "Iteration:  53%|███████████████████████████████████████████████████████████████                                                        | 479/904 [10:01<07:06,  1.00s/it]\u001b[A\n",
      "Iteration:  53%|███████████████████████████████████████████████████████████████▏                                                       | 480/904 [10:03<07:21,  1.04s/it]\u001b[A\n",
      "Iteration:  53%|███████████████████████████████████████████████████████████████▎                                                       | 481/904 [10:04<07:31,  1.07s/it]\u001b[A\n",
      "Iteration:  53%|███████████████████████████████████████████████████████████████▍                                                       | 482/904 [10:06<07:41,  1.09s/it]\u001b[A\n",
      "Iteration:  53%|███████████████████████████████████████████████████████████████▌                                                       | 483/904 [10:07<07:42,  1.10s/it]\u001b[A\n",
      "Iteration:  54%|███████████████████████████████████████████████████████████████▋                                                       | 484/904 [10:08<07:36,  1.09s/it]\u001b[A\n",
      "Iteration:  54%|███████████████████████████████████████████████████████████████▊                                                       | 485/904 [10:09<07:35,  1.09s/it]\u001b[A\n",
      "Iteration:  54%|███████████████████████████████████████████████████████████████▉                                                       | 486/904 [10:10<07:30,  1.08s/it]\u001b[A\n",
      "Iteration:  54%|████████████████████████████████████████████████████████████████                                                       | 487/904 [10:11<07:33,  1.09s/it]\u001b[A\n",
      "Iteration:  54%|████████████████████████████████████████████████████████████████▏                                                      | 488/904 [10:13<07:47,  1.12s/it]\u001b[A\n",
      "Iteration:  54%|████████████████████████████████████████████████████████████████▎                                                      | 489/904 [10:14<07:53,  1.14s/it]\u001b[A\n",
      "Iteration:  54%|████████████████████████████████████████████████████████████████▌                                                      | 490/904 [10:15<07:48,  1.13s/it]\u001b[A\n",
      "Iteration:  54%|████████████████████████████████████████████████████████████████▋                                                      | 491/904 [10:16<07:44,  1.13s/it]\u001b[A\n",
      "Iteration:  54%|████████████████████████████████████████████████████████████████▊                                                      | 492/904 [10:17<07:39,  1.12s/it]\u001b[A\n",
      "Iteration:  55%|████████████████████████████████████████████████████████████████▉                                                      | 493/904 [10:19<07:52,  1.15s/it]\u001b[A\n",
      "Iteration:  55%|█████████████████████████████████████████████████████████████████                                                      | 494/904 [10:21<08:05,  1.19s/it]\u001b[A\n",
      "Iteration:  55%|█████████████████████████████████████████████████████████████████▏                                                     | 495/904 [10:22<08:08,  1.19s/it]\u001b[A\n",
      "Iteration:  55%|█████████████████████████████████████████████████████████████████▎                                                     | 496/904 [10:24<08:16,  1.22s/it]\u001b[A\n",
      "Iteration:  55%|█████████████████████████████████████████████████████████████████▍                                                     | 497/904 [10:25<08:12,  1.21s/it]\u001b[A\n",
      "Iteration:  55%|█████████████████████████████████████████████████████████████████▌                                                     | 498/904 [10:26<08:08,  1.20s/it]\u001b[A\n",
      "Iteration:  55%|█████████████████████████████████████████████████████████████████▋                                                     | 499/904 [10:27<08:00,  1.19s/it]\u001b[A\n",
      "Iteration:  55%|█████████████████████████████████████████████████████████████████▊                                                     | 500/904 [10:28<07:56,  1.18s/it]\u001b[A\n",
      "Iteration:  55%|█████████████████████████████████████████████████████████████████▉                                                     | 501/904 [10:29<07:58,  1.19s/it]\u001b[A\n",
      "Iteration:  56%|██████████████████████████████████████████████████████████████████                                                     | 502/904 [10:31<08:08,  1.22s/it]\u001b[A\n",
      "Iteration:  56%|██████████████████████████████████████████████████████████████████▏                                                    | 503/904 [10:32<08:01,  1.20s/it]\u001b[A\n",
      "Iteration:  56%|██████████████████████████████████████████████████████████████████▎                                                    | 504/904 [10:33<07:57,  1.19s/it]\u001b[A\n",
      "Iteration:  56%|██████████████████████████████████████████████████████████████████▍                                                    | 505/904 [10:34<07:57,  1.20s/it]\u001b[A\n",
      "Iteration:  56%|██████████████████████████████████████████████████████████████████▌                                                    | 506/904 [10:36<07:58,  1.20s/it]\u001b[A\n",
      "Iteration:  56%|██████████████████████████████████████████████████████████████████▋                                                    | 507/904 [10:37<07:52,  1.19s/it]\u001b[A\n",
      "Iteration:  56%|██████████████████████████████████████████████████████████████████▊                                                    | 508/904 [10:38<07:54,  1.20s/it]\u001b[A\n",
      "Iteration:  56%|███████████████████████████████████████████████████████████████████                                                    | 509/904 [10:39<07:43,  1.17s/it]\u001b[A\n",
      "Iteration:  56%|███████████████████████████████████████████████████████████████████▏                                                   | 510/904 [10:39<07:32,  1.15s/it]\u001b[A\n",
      "Iteration:  57%|███████████████████████████████████████████████████████████████████▎                                                   | 511/904 [10:40<07:25,  1.13s/it]\u001b[A\n",
      "Iteration:  57%|███████████████████████████████████████████████████████████████████▍                                                   | 512/904 [10:41<07:26,  1.14s/it]\u001b[A\n"
     ]
    },
    {
     "name": "stderr",
     "output_type": "stream",
     "text": [
      "Iteration:  57%|███████████████████████████████████████████████████████████████████▌                                                   | 513/904 [10:43<07:23,  1.14s/it]\u001b[A\n",
      "Iteration:  57%|███████████████████████████████████████████████████████████████████▋                                                   | 514/904 [10:44<07:20,  1.13s/it]\u001b[A\n",
      "Iteration:  57%|███████████████████████████████████████████████████████████████████▊                                                   | 515/904 [10:45<07:23,  1.14s/it]\u001b[A\n",
      "Iteration:  57%|███████████████████████████████████████████████████████████████████▉                                                   | 516/904 [10:46<07:22,  1.14s/it]\u001b[A\n",
      "Iteration:  57%|████████████████████████████████████████████████████████████████████                                                   | 517/904 [10:47<07:21,  1.14s/it]\u001b[A\n",
      "Iteration:  57%|████████████████████████████████████████████████████████████████████▏                                                  | 518/904 [10:48<07:19,  1.14s/it]\u001b[A\n",
      "Iteration:  57%|████████████████████████████████████████████████████████████████████▎                                                  | 519/904 [10:49<07:17,  1.14s/it]\u001b[A\n",
      "Iteration:  58%|████████████████████████████████████████████████████████████████████▍                                                  | 520/904 [10:51<07:16,  1.14s/it]\u001b[A\n",
      "Iteration:  58%|████████████████████████████████████████████████████████████████████▌                                                  | 521/904 [10:52<07:24,  1.16s/it]\u001b[A\n",
      "Iteration:  58%|████████████████████████████████████████████████████████████████████▋                                                  | 522/904 [10:53<07:23,  1.16s/it]\u001b[A\n",
      "Iteration:  58%|████████████████████████████████████████████████████████████████████▊                                                  | 523/904 [10:54<07:22,  1.16s/it]\u001b[A\n",
      "Iteration:  58%|████████████████████████████████████████████████████████████████████▉                                                  | 524/904 [10:55<07:17,  1.15s/it]\u001b[A\n",
      "Iteration:  58%|█████████████████████████████████████████████████████████████████████                                                  | 525/904 [10:56<07:13,  1.14s/it]\u001b[A\n",
      "Iteration:  58%|█████████████████████████████████████████████████████████████████████▏                                                 | 526/904 [10:57<07:11,  1.14s/it]\u001b[A\n",
      "Iteration:  58%|█████████████████████████████████████████████████████████████████████▎                                                 | 527/904 [10:58<07:03,  1.12s/it]\u001b[A\n",
      "Iteration:  58%|█████████████████████████████████████████████████████████████████████▌                                                 | 528/904 [10:59<06:57,  1.11s/it]\u001b[A\n",
      "Iteration:  59%|█████████████████████████████████████████████████████████████████████▋                                                 | 529/904 [11:00<07:00,  1.12s/it]\u001b[A\n",
      "Iteration:  59%|█████████████████████████████████████████████████████████████████████▊                                                 | 530/904 [11:01<06:54,  1.11s/it]\u001b[A\n",
      "Iteration:  59%|█████████████████████████████████████████████████████████████████████▉                                                 | 531/904 [11:03<06:56,  1.12s/it]\u001b[A\n",
      "Iteration:  59%|██████████████████████████████████████████████████████████████████████                                                 | 532/904 [11:04<07:07,  1.15s/it]\u001b[A\n",
      "Iteration:  59%|██████████████████████████████████████████████████████████████████████▏                                                | 533/904 [11:06<07:06,  1.15s/it]\u001b[A\n",
      "Iteration:  59%|██████████████████████████████████████████████████████████████████████▎                                                | 534/904 [11:08<07:21,  1.19s/it]\u001b[A\n",
      "Iteration:  59%|██████████████████████████████████████████████████████████████████████▍                                                | 535/904 [11:09<07:22,  1.20s/it]\u001b[A\n",
      "Iteration:  59%|██████████████████████████████████████████████████████████████████████▌                                                | 536/904 [11:10<07:26,  1.21s/it]\u001b[A\n",
      "Iteration:  59%|██████████████████████████████████████████████████████████████████████▋                                                | 537/904 [11:12<07:34,  1.24s/it]\u001b[A\n",
      "Iteration:  60%|██████████████████████████████████████████████████████████████████████▊                                                | 538/904 [11:13<07:34,  1.24s/it]\u001b[A\n",
      "Iteration:  60%|██████████████████████████████████████████████████████████████████████▉                                                | 539/904 [11:15<07:37,  1.25s/it]\u001b[A\n",
      "Iteration:  60%|███████████████████████████████████████████████████████████████████████                                                | 540/904 [11:17<07:55,  1.31s/it]\u001b[A\n",
      "Iteration:  60%|███████████████████████████████████████████████████████████████████████▏                                               | 541/904 [11:18<07:51,  1.30s/it]\u001b[A\n",
      "Iteration:  60%|███████████████████████████████████████████████████████████████████████▎                                               | 542/904 [11:19<07:46,  1.29s/it]\u001b[A\n",
      "Iteration:  60%|███████████████████████████████████████████████████████████████████████▍                                               | 543/904 [11:21<07:41,  1.28s/it]\u001b[A\n",
      "Iteration:  60%|███████████████████████████████████████████████████████████████████████▌                                               | 544/904 [11:22<07:36,  1.27s/it]\u001b[A\n",
      "Iteration:  60%|███████████████████████████████████████████████████████████████████████▋                                               | 545/904 [11:23<07:32,  1.26s/it]\u001b[A\n",
      "Iteration:  60%|███████████████████████████████████████████████████████████████████████▊                                               | 546/904 [11:24<07:27,  1.25s/it]\u001b[A\n",
      "Iteration:  61%|████████████████████████████████████████████████████████████████████████                                               | 547/904 [11:25<07:25,  1.25s/it]\u001b[A\n",
      "Iteration:  61%|████████████████████████████████████████████████████████████████████████▏                                              | 548/904 [11:26<07:22,  1.24s/it]\u001b[A\n",
      "Iteration:  61%|████████████████████████████████████████████████████████████████████████▎                                              | 549/904 [11:27<07:15,  1.23s/it]\u001b[A\n",
      "Iteration:  61%|████████████████████████████████████████████████████████████████████████▍                                              | 550/904 [11:28<07:14,  1.23s/it]\u001b[A\n",
      "Iteration:  61%|████████████████████████████████████████████████████████████████████████▌                                              | 551/904 [11:29<07:08,  1.21s/it]\u001b[A\n",
      "Iteration:  61%|████████████████████████████████████████████████████████████████████████▋                                              | 552/904 [11:30<07:00,  1.20s/it]\u001b[A\n",
      "Iteration:  61%|████████████████████████████████████████████████████████████████████████▊                                              | 553/904 [11:31<06:55,  1.19s/it]\u001b[A\n",
      "Iteration:  61%|████████████████████████████████████████████████████████████████████████▉                                              | 554/904 [11:32<06:47,  1.16s/it]\u001b[A\n",
      "Iteration:  61%|█████████████████████████████████████████████████████████████████████████                                              | 555/904 [11:33<06:38,  1.14s/it]\u001b[A\n",
      "Iteration:  62%|█████████████████████████████████████████████████████████████████████████▏                                             | 556/904 [11:33<06:32,  1.13s/it]\u001b[A\n",
      "Iteration:  62%|█████████████████████████████████████████████████████████████████████████▎                                             | 557/904 [11:35<06:31,  1.13s/it]\u001b[A\n",
      "Iteration:  62%|█████████████████████████████████████████████████████████████████████████▍                                             | 558/904 [11:36<06:28,  1.12s/it]\u001b[A\n",
      "Iteration:  62%|█████████████████████████████████████████████████████████████████████████▌                                             | 559/904 [11:37<06:28,  1.13s/it]\u001b[A\n"
     ]
    },
    {
     "name": "stderr",
     "output_type": "stream",
     "text": [
      "Iteration:  62%|█████████████████████████████████████████████████████████████████████████▋                                             | 560/904 [11:38<06:26,  1.12s/it]\u001b[A\n",
      "Iteration:  62%|█████████████████████████████████████████████████████████████████████████▊                                             | 561/904 [11:39<06:21,  1.11s/it]\u001b[A\n",
      "Iteration:  62%|█████████████████████████████████████████████████████████████████████████▉                                             | 562/904 [11:40<06:31,  1.14s/it]\u001b[A\n",
      "Iteration:  62%|██████████████████████████████████████████████████████████████████████████                                             | 563/904 [11:41<06:28,  1.14s/it]\u001b[A\n",
      "Iteration:  62%|██████████████████████████████████████████████████████████████████████████▏                                            | 564/904 [11:43<06:26,  1.14s/it]\u001b[A\n",
      "Iteration:  62%|██████████████████████████████████████████████████████████████████████████▍                                            | 565/904 [11:44<06:24,  1.13s/it]\u001b[A\n",
      "Iteration:  63%|██████████████████████████████████████████████████████████████████████████▌                                            | 566/904 [11:46<06:35,  1.17s/it]\u001b[A\n",
      "Iteration:  63%|██████████████████████████████████████████████████████████████████████████▋                                            | 567/904 [11:46<06:28,  1.15s/it]\u001b[A\n",
      "Iteration:  63%|██████████████████████████████████████████████████████████████████████████▊                                            | 568/904 [11:47<06:19,  1.13s/it]\u001b[A\n",
      "Iteration:  63%|██████████████████████████████████████████████████████████████████████████▉                                            | 569/904 [11:48<06:18,  1.13s/it]\u001b[A\n",
      "Iteration:  63%|███████████████████████████████████████████████████████████████████████████                                            | 570/904 [11:49<06:19,  1.14s/it]\u001b[A\n",
      "Iteration:  63%|███████████████████████████████████████████████████████████████████████████▏                                           | 571/904 [11:51<06:19,  1.14s/it]\u001b[A\n",
      "Iteration:  63%|███████████████████████████████████████████████████████████████████████████▎                                           | 572/904 [11:52<06:15,  1.13s/it]\u001b[A\n",
      "Iteration:  63%|███████████████████████████████████████████████████████████████████████████▍                                           | 573/904 [11:52<06:09,  1.12s/it]\u001b[A\n",
      "Iteration:  63%|███████████████████████████████████████████████████████████████████████████▌                                           | 574/904 [11:53<06:03,  1.10s/it]\u001b[A\n",
      "Iteration:  64%|███████████████████████████████████████████████████████████████████████████▋                                           | 575/904 [11:55<06:15,  1.14s/it]\u001b[A\n",
      "Iteration:  64%|███████████████████████████████████████████████████████████████████████████▊                                           | 576/904 [11:57<06:23,  1.17s/it]\u001b[A\n",
      "Iteration:  64%|███████████████████████████████████████████████████████████████████████████▉                                           | 577/904 [11:58<06:19,  1.16s/it]\u001b[A\n",
      "Iteration:  64%|████████████████████████████████████████████████████████████████████████████                                           | 578/904 [12:00<06:27,  1.19s/it]\u001b[A\n",
      "Iteration:  64%|████████████████████████████████████████████████████████████████████████████▏                                          | 579/904 [12:04<07:26,  1.37s/it]\u001b[A\n",
      "Iteration:  64%|████████████████████████████████████████████████████████████████████████████▎                                          | 580/904 [12:09<08:20,  1.54s/it]\u001b[A\n",
      "Iteration:  64%|████████████████████████████████████████████████████████████████████████████▍                                          | 581/904 [12:11<08:27,  1.57s/it]\u001b[A\n",
      "Iteration:  64%|████████████████████████████████████████████████████████████████████████████▌                                          | 582/904 [12:13<08:21,  1.56s/it]\u001b[A\n",
      "Iteration:  64%|████████████████████████████████████████████████████████████████████████████▋                                          | 583/904 [12:14<08:22,  1.56s/it]\u001b[A\n",
      "Iteration:  65%|████████████████████████████████████████████████████████████████████████████▉                                          | 584/904 [12:16<08:21,  1.57s/it]\u001b[A\n",
      "Iteration:  65%|█████████████████████████████████████████████████████████████████████████████                                          | 585/904 [12:17<08:14,  1.55s/it]\u001b[A\n",
      "Iteration:  65%|█████████████████████████████████████████████████████████████████████████████▏                                         | 586/904 [12:18<08:09,  1.54s/it]\u001b[A\n",
      "Iteration:  65%|█████████████████████████████████████████████████████████████████████████████▎                                         | 587/904 [12:20<08:07,  1.54s/it]\u001b[A\n",
      "Iteration:  65%|█████████████████████████████████████████████████████████████████████████████▍                                         | 588/904 [12:21<08:04,  1.53s/it]\u001b[A\n",
      "Iteration:  65%|█████████████████████████████████████████████████████████████████████████████▌                                         | 589/904 [12:23<08:07,  1.55s/it]\u001b[A\n",
      "Iteration:  65%|█████████████████████████████████████████████████████████████████████████████▋                                         | 590/904 [12:25<08:04,  1.54s/it]\u001b[A\n",
      "Iteration:  65%|█████████████████████████████████████████████████████████████████████████████▊                                         | 591/904 [12:27<08:21,  1.60s/it]\u001b[A\n",
      "Iteration:  65%|█████████████████████████████████████████████████████████████████████████████▉                                         | 592/904 [12:29<08:20,  1.60s/it]\u001b[A\n",
      "Iteration:  66%|██████████████████████████████████████████████████████████████████████████████                                         | 593/904 [12:30<08:12,  1.58s/it]\u001b[A\n",
      "Iteration:  66%|██████████████████████████████████████████████████████████████████████████████▏                                        | 594/904 [12:32<08:07,  1.57s/it]\u001b[A\n",
      "Iteration:  66%|██████████████████████████████████████████████████████████████████████████████▎                                        | 595/904 [12:33<08:09,  1.58s/it]\u001b[A\n",
      "Iteration:  66%|██████████████████████████████████████████████████████████████████████████████▍                                        | 596/904 [12:35<08:06,  1.58s/it]\u001b[A\n",
      "Iteration:  66%|██████████████████████████████████████████████████████████████████████████████▌                                        | 597/904 [12:37<08:16,  1.62s/it]\u001b[A\n",
      "Iteration:  66%|██████████████████████████████████████████████████████████████████████████████▋                                        | 598/904 [12:38<08:06,  1.59s/it]\u001b[A\n",
      "Iteration:  66%|██████████████████████████████████████████████████████████████████████████████▊                                        | 599/904 [12:41<08:16,  1.63s/it]\u001b[A\n",
      "Iteration:  66%|██████████████████████████████████████████████████████████████████████████████▉                                        | 600/904 [12:44<08:34,  1.69s/it]\u001b[A\n",
      "Iteration:  66%|███████████████████████████████████████████████████████████████████████████████                                        | 601/904 [12:45<08:29,  1.68s/it]\u001b[A\n",
      "Iteration:  67%|███████████████████████████████████████████████████████████████████████████████▏                                       | 602/904 [12:47<08:24,  1.67s/it]\u001b[A\n",
      "Iteration:  67%|███████████████████████████████████████████████████████████████████████████████▍                                       | 603/904 [12:48<08:17,  1.65s/it]\u001b[A\n",
      "Iteration:  67%|███████████████████████████████████████████████████████████████████████████████▌                                       | 604/904 [12:49<08:09,  1.63s/it]\u001b[A\n",
      "Iteration:  67%|███████████████████████████████████████████████████████████████████████████████▋                                       | 605/904 [12:50<08:03,  1.62s/it]\u001b[A\n",
      "Iteration:  67%|███████████████████████████████████████████████████████████████████████████████▊                                       | 606/904 [12:52<07:56,  1.60s/it]\u001b[A\n"
     ]
    },
    {
     "name": "stderr",
     "output_type": "stream",
     "text": [
      "Iteration:  67%|███████████████████████████████████████████████████████████████████████████████▉                                       | 607/904 [12:53<07:53,  1.60s/it]\u001b[A\n",
      "Iteration:  67%|████████████████████████████████████████████████████████████████████████████████                                       | 608/904 [12:56<08:03,  1.63s/it]\u001b[A\n",
      "Iteration:  67%|████████████████████████████████████████████████████████████████████████████████▏                                      | 609/904 [12:58<08:18,  1.69s/it]\u001b[A\n",
      "Iteration:  67%|████████████████████████████████████████████████████████████████████████████████▎                                      | 610/904 [13:00<08:23,  1.71s/it]\u001b[A\n",
      "Iteration:  68%|████████████████████████████████████████████████████████████████████████████████▍                                      | 611/904 [13:02<08:22,  1.71s/it]\u001b[A\n",
      "Iteration:  68%|████████████████████████████████████████████████████████████████████████████████▌                                      | 612/904 [13:04<08:28,  1.74s/it]\u001b[A\n",
      "Iteration:  68%|████████████████████████████████████████████████████████████████████████████████▋                                      | 613/904 [13:06<08:23,  1.73s/it]\u001b[A\n",
      "Iteration:  68%|████████████████████████████████████████████████████████████████████████████████▊                                      | 614/904 [13:08<08:32,  1.77s/it]\u001b[A\n",
      "Iteration:  68%|████████████████████████████████████████████████████████████████████████████████▉                                      | 615/904 [13:10<08:28,  1.76s/it]\u001b[A\n",
      "Iteration:  68%|█████████████████████████████████████████████████████████████████████████████████                                      | 616/904 [13:11<08:19,  1.73s/it]\u001b[A\n",
      "Iteration:  68%|█████████████████████████████████████████████████████████████████████████████████▏                                     | 617/904 [13:13<08:23,  1.75s/it]\u001b[A\n",
      "Iteration:  68%|█████████████████████████████████████████████████████████████████████████████████▎                                     | 618/904 [13:15<08:23,  1.76s/it]\u001b[A\n",
      "Iteration:  68%|█████████████████████████████████████████████████████████████████████████████████▍                                     | 619/904 [13:17<08:19,  1.75s/it]\u001b[A\n",
      "Iteration:  69%|█████████████████████████████████████████████████████████████████████████████████▌                                     | 620/904 [13:19<08:23,  1.77s/it]\u001b[A\n",
      "Iteration:  69%|█████████████████████████████████████████████████████████████████████████████████▋                                     | 621/904 [13:21<08:22,  1.78s/it]\u001b[A\n",
      "Iteration:  69%|█████████████████████████████████████████████████████████████████████████████████▉                                     | 622/904 [13:23<08:29,  1.81s/it]\u001b[A\n",
      "Iteration:  69%|██████████████████████████████████████████████████████████████████████████████████                                     | 623/904 [13:26<08:41,  1.85s/it]\u001b[A\n",
      "Iteration:  69%|██████████████████████████████████████████████████████████████████████████████████▏                                    | 624/904 [13:28<08:42,  1.86s/it]\u001b[A\n",
      "Iteration:  69%|██████████████████████████████████████████████████████████████████████████████████▎                                    | 625/904 [13:29<08:27,  1.82s/it]\u001b[A\n",
      "Iteration:  69%|██████████████████████████████████████████████████████████████████████████████████▍                                    | 626/904 [13:31<08:21,  1.80s/it]\u001b[A\n",
      "Iteration:  69%|██████████████████████████████████████████████████████████████████████████████████▌                                    | 627/904 [13:33<08:20,  1.81s/it]\u001b[A\n",
      "Iteration:  69%|██████████████████████████████████████████████████████████████████████████████████▋                                    | 628/904 [13:35<08:22,  1.82s/it]\u001b[A\n",
      "Iteration:  70%|██████████████████████████████████████████████████████████████████████████████████▊                                    | 629/904 [13:36<08:13,  1.79s/it]\u001b[A\n",
      "Iteration:  70%|██████████████████████████████████████████████████████████████████████████████████▉                                    | 630/904 [13:38<08:13,  1.80s/it]\u001b[A\n",
      "Iteration:  70%|███████████████████████████████████████████████████████████████████████████████████                                    | 631/904 [13:40<08:20,  1.83s/it]\u001b[A\n",
      "Iteration:  70%|███████████████████████████████████████████████████████████████████████████████████▏                                   | 632/904 [13:41<08:10,  1.80s/it]\u001b[A\n",
      "Iteration:  70%|███████████████████████████████████████████████████████████████████████████████████▎                                   | 633/904 [13:44<08:12,  1.82s/it]\u001b[A\n",
      "Iteration:  70%|███████████████████████████████████████████████████████████████████████████████████▍                                   | 634/904 [13:47<08:25,  1.87s/it]\u001b[A\n",
      "Iteration:  70%|███████████████████████████████████████████████████████████████████████████████████▌                                   | 635/904 [13:48<08:16,  1.84s/it]\u001b[A\n",
      "Iteration:  70%|███████████████████████████████████████████████████████████████████████████████████▋                                   | 636/904 [13:50<08:13,  1.84s/it]\u001b[A\n",
      "Iteration:  70%|███████████████████████████████████████████████████████████████████████████████████▊                                   | 637/904 [13:52<08:14,  1.85s/it]\u001b[A\n",
      "Iteration:  71%|███████████████████████████████████████████████████████████████████████████████████▉                                   | 638/904 [13:54<08:15,  1.86s/it]\u001b[A\n",
      "Iteration:  71%|████████████████████████████████████████████████████████████████████████████████████                                   | 639/904 [13:56<08:22,  1.90s/it]\u001b[A\n",
      "Iteration:  71%|████████████████████████████████████████████████████████████████████████████████████▏                                  | 640/904 [13:58<08:17,  1.88s/it]\u001b[A\n",
      "Iteration:  71%|████████████████████████████████████████████████████████████████████████████████████▍                                  | 641/904 [14:00<08:12,  1.87s/it]\u001b[A\n",
      "Iteration:  71%|████████████████████████████████████████████████████████████████████████████████████▌                                  | 642/904 [14:01<08:08,  1.87s/it]\u001b[A\n",
      "Iteration:  71%|████████████████████████████████████████████████████████████████████████████████████▋                                  | 643/904 [14:03<08:04,  1.86s/it]\u001b[A\n",
      "Iteration:  71%|████████████████████████████████████████████████████████████████████████████████████▊                                  | 644/904 [14:04<07:53,  1.82s/it]\u001b[A\n",
      "Iteration:  71%|████████████████████████████████████████████████████████████████████████████████████▉                                  | 645/904 [14:06<07:46,  1.80s/it]\u001b[A\n",
      "Iteration:  71%|█████████████████████████████████████████████████████████████████████████████████████                                  | 646/904 [14:07<07:44,  1.80s/it]\u001b[A\n",
      "Iteration:  72%|█████████████████████████████████████████████████████████████████████████████████████▏                                 | 647/904 [14:08<07:31,  1.76s/it]\u001b[A\n",
      "Iteration:  72%|█████████████████████████████████████████████████████████████████████████████████████▎                                 | 648/904 [14:10<07:24,  1.73s/it]\u001b[A\n",
      "Iteration:  72%|█████████████████████████████████████████████████████████████████████████████████████▍                                 | 649/904 [14:11<07:15,  1.71s/it]\u001b[A\n",
      "Iteration:  72%|█████████████████████████████████████████████████████████████████████████████████████▌                                 | 650/904 [14:13<07:22,  1.74s/it]\u001b[A\n",
      "Iteration:  72%|█████████████████████████████████████████████████████████████████████████████████████▋                                 | 651/904 [14:17<07:44,  1.83s/it]\u001b[A\n",
      "Iteration:  72%|█████████████████████████████████████████████████████████████████████████████████████▊                                 | 652/904 [14:19<07:49,  1.86s/it]\u001b[A\n",
      "Iteration:  72%|█████████████████████████████████████████████████████████████████████████████████████▉                                 | 653/904 [14:21<07:45,  1.86s/it]\u001b[A\n"
     ]
    },
    {
     "name": "stderr",
     "output_type": "stream",
     "text": [
      "Iteration:  72%|██████████████████████████████████████████████████████████████████████████████████████                                 | 654/904 [14:22<07:33,  1.81s/it]\u001b[A\n",
      "Iteration:  72%|██████████████████████████████████████████████████████████████████████████████████████▏                                | 655/904 [14:24<07:38,  1.84s/it]\u001b[A\n",
      "Iteration:  73%|██████████████████████████████████████████████████████████████████████████████████████▎                                | 656/904 [14:27<07:43,  1.87s/it]\u001b[A\n",
      "Iteration:  73%|██████████████████████████████████████████████████████████████████████████████████████▍                                | 657/904 [14:28<07:39,  1.86s/it]\u001b[A\n",
      "Iteration:  73%|██████████████████████████████████████████████████████████████████████████████████████▌                                | 658/904 [14:30<07:36,  1.85s/it]\u001b[A\n",
      "Iteration:  73%|██████████████████████████████████████████████████████████████████████████████████████▋                                | 659/904 [14:31<07:25,  1.82s/it]\u001b[A\n",
      "Iteration:  73%|██████████████████████████████████████████████████████████████████████████████████████▉                                | 660/904 [14:33<07:17,  1.79s/it]\u001b[A\n",
      "Iteration:  73%|███████████████████████████████████████████████████████████████████████████████████████                                | 661/904 [14:34<07:11,  1.78s/it]\u001b[A\n",
      "Iteration:  73%|███████████████████████████████████████████████████████████████████████████████████████▏                               | 662/904 [14:35<07:06,  1.76s/it]\u001b[A\n",
      "Iteration:  73%|███████████████████████████████████████████████████████████████████████████████████████▎                               | 663/904 [14:37<07:03,  1.76s/it]\u001b[A\n",
      "Iteration:  73%|███████████████████████████████████████████████████████████████████████████████████████▍                               | 664/904 [14:39<07:07,  1.78s/it]\u001b[A\n",
      "Iteration:  74%|███████████████████████████████████████████████████████████████████████████████████████▌                               | 665/904 [14:41<07:06,  1.79s/it]\u001b[A\n",
      "Iteration:  74%|███████████████████████████████████████████████████████████████████████████████████████▋                               | 666/904 [14:43<07:07,  1.80s/it]\u001b[A\n",
      "Iteration:  74%|███████████████████████████████████████████████████████████████████████████████████████▊                               | 667/904 [14:46<07:13,  1.83s/it]\u001b[A\n",
      "Iteration:  74%|███████████████████████████████████████████████████████████████████████████████████████▉                               | 668/904 [14:49<07:25,  1.89s/it]\u001b[A\n",
      "Iteration:  74%|████████████████████████████████████████████████████████████████████████████████████████                               | 669/904 [14:52<07:39,  1.95s/it]\u001b[A\n",
      "Iteration:  74%|████████████████████████████████████████████████████████████████████████████████████████▏                              | 670/904 [14:54<07:37,  1.95s/it]\u001b[A\n",
      "Iteration:  74%|████████████████████████████████████████████████████████████████████████████████████████▎                              | 671/904 [14:56<07:31,  1.94s/it]\u001b[A\n",
      "Iteration:  74%|████████████████████████████████████████████████████████████████████████████████████████▍                              | 672/904 [14:57<07:25,  1.92s/it]\u001b[A\n",
      "Iteration:  74%|████████████████████████████████████████████████████████████████████████████████████████▌                              | 673/904 [14:59<07:19,  1.90s/it]\u001b[A\n",
      "Iteration:  75%|████████████████████████████████████████████████████████████████████████████████████████▋                              | 674/904 [15:00<07:09,  1.87s/it]\u001b[A\n",
      "Iteration:  75%|████████████████████████████████████████████████████████████████████████████████████████▊                              | 675/904 [15:01<07:01,  1.84s/it]\u001b[A\n",
      "Iteration:  75%|████████████████████████████████████████████████████████████████████████████████████████▉                              | 676/904 [15:05<07:20,  1.93s/it]\u001b[A\n",
      "Iteration:  75%|█████████████████████████████████████████████████████████████████████████████████████████                              | 677/904 [15:07<07:23,  1.95s/it]\u001b[A\n",
      "Iteration:  75%|█████████████████████████████████████████████████████████████████████████████████████████▎                             | 678/904 [15:09<07:18,  1.94s/it]\u001b[A\n",
      "Iteration:  75%|█████████████████████████████████████████████████████████████████████████████████████████▍                             | 679/904 [15:12<07:31,  2.00s/it]\u001b[A\n",
      "Iteration:  75%|█████████████████████████████████████████████████████████████████████████████████████████▌                             | 680/904 [15:16<07:54,  2.12s/it]\u001b[A\n",
      "Iteration:  75%|█████████████████████████████████████████████████████████████████████████████████████████▋                             | 681/904 [15:18<07:50,  2.11s/it]\u001b[A\n",
      "Iteration:  75%|█████████████████████████████████████████████████████████████████████████████████████████▊                             | 682/904 [15:22<08:00,  2.17s/it]\u001b[A\n",
      "Iteration:  76%|█████████████████████████████████████████████████████████████████████████████████████████▉                             | 683/904 [15:25<08:11,  2.23s/it]\u001b[A\n",
      "Iteration:  76%|██████████████████████████████████████████████████████████████████████████████████████████                             | 684/904 [15:29<08:34,  2.34s/it]\u001b[A\n",
      "Iteration:  76%|██████████████████████████████████████████████████████████████████████████████████████████▏                            | 685/904 [15:35<09:03,  2.48s/it]\u001b[A\n",
      "Iteration:  76%|██████████████████████████████████████████████████████████████████████████████████████████▎                            | 686/904 [15:38<09:09,  2.52s/it]\u001b[A\n",
      "Iteration:  76%|██████████████████████████████████████████████████████████████████████████████████████████▍                            | 687/904 [15:42<09:20,  2.58s/it]\u001b[A\n",
      "Iteration:  76%|██████████████████████████████████████████████████████████████████████████████████████████▌                            | 688/904 [15:44<09:18,  2.59s/it]\u001b[A\n",
      "Iteration:  76%|██████████████████████████████████████████████████████████████████████████████████████████▋                            | 689/904 [15:46<09:10,  2.56s/it]\u001b[A\n",
      "Iteration:  76%|██████████████████████████████████████████████████████████████████████████████████████████▊                            | 690/904 [15:49<09:04,  2.54s/it]\u001b[A\n",
      "Iteration:  76%|██████████████████████████████████████████████████████████████████████████████████████████▉                            | 691/904 [15:50<08:51,  2.50s/it]\u001b[A\n",
      "Iteration:  77%|███████████████████████████████████████████████████████████████████████████████████████████                            | 692/904 [15:52<08:37,  2.44s/it]\u001b[A\n",
      "Iteration:  77%|███████████████████████████████████████████████████████████████████████████████████████████▏                           | 693/904 [15:53<08:26,  2.40s/it]\u001b[A\n",
      "Iteration:  77%|███████████████████████████████████████████████████████████████████████████████████████████▎                           | 694/904 [15:55<08:13,  2.35s/it]\u001b[A\n",
      "Iteration:  77%|███████████████████████████████████████████████████████████████████████████████████████████▍                           | 695/904 [15:56<08:00,  2.30s/it]\u001b[A\n",
      "Iteration:  77%|███████████████████████████████████████████████████████████████████████████████████████████▌                           | 696/904 [15:57<07:49,  2.25s/it]\u001b[A\n",
      "Iteration:  77%|███████████████████████████████████████████████████████████████████████████████████████████▊                           | 697/904 [15:59<07:41,  2.23s/it]\u001b[A\n",
      "Iteration:  77%|███████████████████████████████████████████████████████████████████████████████████████████▉                           | 698/904 [16:00<07:29,  2.18s/it]\u001b[A\n",
      "Iteration:  77%|████████████████████████████████████████████████████████████████████████████████████████████                           | 699/904 [16:02<07:21,  2.16s/it]\u001b[A\n",
      "Iteration:  77%|████████████████████████████████████████████████████████████████████████████████████████████▏                          | 700/904 [16:04<07:14,  2.13s/it]\u001b[A\n"
     ]
    },
    {
     "name": "stderr",
     "output_type": "stream",
     "text": [
      "Iteration:  78%|████████████████████████████████████████████████████████████████████████████████████████████▎                          | 701/904 [16:05<07:08,  2.11s/it]\u001b[A\n",
      "Iteration:  78%|████████████████████████████████████████████████████████████████████████████████████████████▍                          | 702/904 [16:07<07:01,  2.09s/it]\u001b[A\n",
      "Iteration:  78%|████████████████████████████████████████████████████████████████████████████████████████████▌                          | 703/904 [16:10<07:08,  2.13s/it]\u001b[A\n",
      "Iteration:  78%|████████████████████████████████████████████████████████████████████████████████████████████▋                          | 704/904 [16:12<07:07,  2.14s/it]\u001b[A\n",
      "Iteration:  78%|████████████████████████████████████████████████████████████████████████████████████████████▊                          | 705/904 [16:14<06:58,  2.10s/it]\u001b[A\n",
      "Iteration:  78%|████████████████████████████████████████████████████████████████████████████████████████████▉                          | 706/904 [16:15<06:45,  2.05s/it]\u001b[A\n",
      "Iteration:  78%|█████████████████████████████████████████████████████████████████████████████████████████████                          | 707/904 [16:17<06:41,  2.04s/it]\u001b[A\n",
      "Iteration:  78%|█████████████████████████████████████████████████████████████████████████████████████████████▏                         | 708/904 [16:18<06:30,  1.99s/it]\u001b[A\n",
      "Iteration:  78%|█████████████████████████████████████████████████████████████████████████████████████████████▎                         | 709/904 [16:19<06:26,  1.98s/it]\u001b[A\n",
      "Iteration:  79%|█████████████████████████████████████████████████████████████████████████████████████████████▍                         | 710/904 [16:21<06:18,  1.95s/it]\u001b[A\n",
      "Iteration:  79%|█████████████████████████████████████████████████████████████████████████████████████████████▌                         | 711/904 [16:22<06:10,  1.92s/it]\u001b[A\n",
      "Iteration:  79%|█████████████████████████████████████████████████████████████████████████████████████████████▋                         | 712/904 [16:24<06:06,  1.91s/it]\u001b[A\n",
      "Iteration:  79%|█████████████████████████████████████████████████████████████████████████████████████████████▊                         | 713/904 [16:25<06:00,  1.89s/it]\u001b[A\n",
      "Iteration:  79%|█████████████████████████████████████████████████████████████████████████████████████████████▉                         | 714/904 [16:27<05:54,  1.87s/it]\u001b[A\n",
      "Iteration:  79%|██████████████████████████████████████████████████████████████████████████████████████████████                         | 715/904 [16:29<05:51,  1.86s/it]\u001b[A\n",
      "Iteration:  79%|██████████████████████████████████████████████████████████████████████████████████████████████▎                        | 716/904 [16:31<05:56,  1.90s/it]\u001b[A\n",
      "Iteration:  79%|██████████████████████████████████████████████████████████████████████████████████████████████▍                        | 717/904 [16:33<05:56,  1.91s/it]\u001b[A\n",
      "Iteration:  79%|██████████████████████████████████████████████████████████████████████████████████████████████▌                        | 718/904 [16:35<05:51,  1.89s/it]\u001b[A\n",
      "Iteration:  80%|██████████████████████████████████████████████████████████████████████████████████████████████▋                        | 719/904 [16:37<05:49,  1.89s/it]\u001b[A\n",
      "Iteration:  80%|██████████████████████████████████████████████████████████████████████████████████████████████▊                        | 720/904 [16:38<05:43,  1.87s/it]\u001b[A\n",
      "Iteration:  80%|██████████████████████████████████████████████████████████████████████████████████████████████▉                        | 721/904 [16:40<05:42,  1.87s/it]\u001b[A\n",
      "Iteration:  80%|███████████████████████████████████████████████████████████████████████████████████████████████                        | 722/904 [16:42<05:41,  1.87s/it]\u001b[A\n",
      "Iteration:  80%|███████████████████████████████████████████████████████████████████████████████████████████████▏                       | 723/904 [16:43<05:35,  1.85s/it]\u001b[A\n",
      "Iteration:  80%|███████████████████████████████████████████████████████████████████████████████████████████████▎                       | 724/904 [16:45<05:29,  1.83s/it]\u001b[A\n",
      "Iteration:  80%|███████████████████████████████████████████████████████████████████████████████████████████████▍                       | 725/904 [16:48<05:38,  1.89s/it]\u001b[A\n",
      "Iteration:  80%|███████████████████████████████████████████████████████████████████████████████████████████████▌                       | 726/904 [16:49<05:31,  1.86s/it]\u001b[A\n",
      "Iteration:  80%|███████████████████████████████████████████████████████████████████████████████████████████████▋                       | 727/904 [16:51<05:26,  1.85s/it]\u001b[A\n",
      "Iteration:  81%|███████████████████████████████████████████████████████████████████████████████████████████████▊                       | 728/904 [16:52<05:17,  1.80s/it]\u001b[A\n",
      "Iteration:  81%|███████████████████████████████████████████████████████████████████████████████████████████████▉                       | 729/904 [16:53<05:12,  1.79s/it]\u001b[A\n",
      "Iteration:  81%|████████████████████████████████████████████████████████████████████████████████████████████████                       | 730/904 [16:56<05:15,  1.82s/it]\u001b[A\n",
      "Iteration:  81%|████████████████████████████████████████████████████████████████████████████████████████████████▏                      | 731/904 [16:59<05:30,  1.91s/it]\u001b[A\n",
      "Iteration:  81%|████████████████████████████████████████████████████████████████████████████████████████████████▎                      | 732/904 [17:01<05:26,  1.90s/it]\u001b[A\n",
      "Iteration:  81%|████████████████████████████████████████████████████████████████████████████████████████████████▍                      | 733/904 [17:04<05:32,  1.94s/it]\u001b[A\n",
      "Iteration:  81%|████████████████████████████████████████████████████████████████████████████████████████████████▌                      | 734/904 [17:06<05:34,  1.97s/it]\u001b[A\n",
      "Iteration:  81%|████████████████████████████████████████████████████████████████████████████████████████████████▊                      | 735/904 [17:08<05:31,  1.96s/it]\u001b[A\n",
      "Iteration:  81%|████████████████████████████████████████████████████████████████████████████████████████████████▉                      | 736/904 [17:09<05:21,  1.91s/it]\u001b[A\n",
      "Iteration:  82%|█████████████████████████████████████████████████████████████████████████████████████████████████                      | 737/904 [17:10<05:14,  1.88s/it]\u001b[A\n",
      "Iteration:  82%|█████████████████████████████████████████████████████████████████████████████████████████████████▏                     | 738/904 [17:12<05:07,  1.85s/it]\u001b[A\n",
      "Iteration:  82%|█████████████████████████████████████████████████████████████████████████████████████████████████▎                     | 739/904 [17:13<05:01,  1.83s/it]\u001b[A\n",
      "Iteration:  82%|█████████████████████████████████████████████████████████████████████████████████████████████████▍                     | 740/904 [17:15<05:01,  1.84s/it]\u001b[A\n",
      "Iteration:  82%|█████████████████████████████████████████████████████████████████████████████████████████████████▌                     | 741/904 [17:17<04:57,  1.83s/it]\u001b[A\n",
      "Iteration:  82%|█████████████████████████████████████████████████████████████████████████████████████████████████▋                     | 742/904 [17:19<05:02,  1.87s/it]\u001b[A\n",
      "Iteration:  82%|█████████████████████████████████████████████████████████████████████████████████████████████████▊                     | 743/904 [17:23<05:14,  1.95s/it]\u001b[A\n",
      "Iteration:  82%|█████████████████████████████████████████████████████████████████████████████████████████████████▉                     | 744/904 [17:25<05:10,  1.94s/it]\u001b[A\n",
      "Iteration:  82%|██████████████████████████████████████████████████████████████████████████████████████████████████                     | 745/904 [17:26<05:05,  1.92s/it]\u001b[A\n",
      "Iteration:  83%|██████████████████████████████████████████████████████████████████████████████████████████████████▏                    | 746/904 [17:28<05:02,  1.92s/it]\u001b[A\n",
      "Iteration:  83%|██████████████████████████████████████████████████████████████████████████████████████████████████▎                    | 747/904 [17:31<05:12,  1.99s/it]\u001b[A\n"
     ]
    },
    {
     "name": "stderr",
     "output_type": "stream",
     "text": [
      "Iteration:  83%|██████████████████████████████████████████████████████████████████████████████████████████████████▍                    | 748/904 [17:32<05:03,  1.95s/it]\u001b[A\n",
      "Iteration:  83%|██████████████████████████████████████████████████████████████████████████████████████████████████▌                    | 749/904 [17:34<04:58,  1.93s/it]\u001b[A\n",
      "Iteration:  83%|██████████████████████████████████████████████████████████████████████████████████████████████████▋                    | 750/904 [17:36<04:55,  1.92s/it]\u001b[A\n",
      "Iteration:  83%|██████████████████████████████████████████████████████████████████████████████████████████████████▊                    | 751/904 [17:38<04:53,  1.92s/it]\u001b[A\n",
      "Iteration:  83%|██████████████████████████████████████████████████████████████████████████████████████████████████▉                    | 752/904 [17:40<04:51,  1.92s/it]\u001b[A\n",
      "Iteration:  83%|███████████████████████████████████████████████████████████████████████████████████████████████████                    | 753/904 [17:41<04:46,  1.89s/it]\u001b[A\n",
      "Iteration:  83%|███████████████████████████████████████████████████████████████████████████████████████████████████▎                   | 754/904 [17:43<04:43,  1.89s/it]\u001b[A\n",
      "Iteration:  84%|███████████████████████████████████████████████████████████████████████████████████████████████████▍                   | 755/904 [17:44<04:38,  1.87s/it]\u001b[A\n",
      "Iteration:  84%|███████████████████████████████████████████████████████████████████████████████████████████████████▌                   | 756/904 [17:46<04:33,  1.85s/it]\u001b[A\n",
      "Iteration:  84%|███████████████████████████████████████████████████████████████████████████████████████████████████▋                   | 757/904 [17:47<04:26,  1.81s/it]\u001b[A\n",
      "Iteration:  84%|███████████████████████████████████████████████████████████████████████████████████████████████████▊                   | 758/904 [17:49<04:24,  1.81s/it]\u001b[A\n",
      "Iteration:  84%|███████████████████████████████████████████████████████████████████████████████████████████████████▉                   | 759/904 [17:50<04:19,  1.79s/it]\u001b[A\n",
      "Iteration:  84%|████████████████████████████████████████████████████████████████████████████████████████████████████                   | 760/904 [17:52<04:16,  1.78s/it]\u001b[A\n",
      "Iteration:  84%|████████████████████████████████████████████████████████████████████████████████████████████████████▏                  | 761/904 [17:55<04:24,  1.85s/it]\u001b[A\n",
      "Iteration:  84%|████████████████████████████████████████████████████████████████████████████████████████████████████▎                  | 762/904 [17:56<04:20,  1.84s/it]\u001b[A\n",
      "Iteration:  84%|████████████████████████████████████████████████████████████████████████████████████████████████████▍                  | 763/904 [17:58<04:17,  1.83s/it]\u001b[A\n",
      "Iteration:  85%|████████████████████████████████████████████████████████████████████████████████████████████████████▌                  | 764/904 [18:00<04:14,  1.82s/it]\u001b[A\n",
      "Iteration:  85%|████████████████████████████████████████████████████████████████████████████████████████████████████▋                  | 765/904 [18:02<04:13,  1.83s/it]\u001b[A\n",
      "Iteration:  85%|████████████████████████████████████████████████████████████████████████████████████████████████████▊                  | 766/904 [18:05<04:19,  1.88s/it]\u001b[A\n",
      "Iteration:  85%|████████████████████████████████████████████████████████████████████████████████████████████████████▉                  | 767/904 [18:08<04:28,  1.96s/it]\u001b[A\n",
      "Iteration:  85%|█████████████████████████████████████████████████████████████████████████████████████████████████████                  | 768/904 [18:10<04:25,  1.95s/it]\u001b[A\n",
      "Iteration:  85%|█████████████████████████████████████████████████████████████████████████████████████████████████████▏                 | 769/904 [18:12<04:23,  1.95s/it]\u001b[A\n",
      "Iteration:  85%|█████████████████████████████████████████████████████████████████████████████████████████████████████▎                 | 770/904 [18:13<04:16,  1.92s/it]\u001b[A\n",
      "Iteration:  85%|█████████████████████████████████████████████████████████████████████████████████████████████████████▍                 | 771/904 [18:14<04:10,  1.88s/it]\u001b[A\n",
      "Iteration:  85%|█████████████████████████████████████████████████████████████████████████████████████████████████████▌                 | 772/904 [18:17<04:11,  1.90s/it]\u001b[A\n",
      "Iteration:  86%|█████████████████████████████████████████████████████████████████████████████████████████████████████▊                 | 773/904 [18:18<04:08,  1.90s/it]\u001b[A\n",
      "Iteration:  86%|█████████████████████████████████████████████████████████████████████████████████████████████████████▉                 | 774/904 [18:20<04:06,  1.90s/it]\u001b[A\n",
      "Iteration:  86%|██████████████████████████████████████████████████████████████████████████████████████████████████████                 | 775/904 [18:22<04:03,  1.89s/it]\u001b[A\n",
      "Iteration:  86%|██████████████████████████████████████████████████████████████████████████████████████████████████████▏                | 776/904 [18:24<03:59,  1.87s/it]\u001b[A\n",
      "Iteration:  86%|██████████████████████████████████████████████████████████████████████████████████████████████████████▎                | 777/904 [18:26<03:59,  1.89s/it]\u001b[A\n",
      "Iteration:  86%|██████████████████████████████████████████████████████████████████████████████████████████████████████▍                | 778/904 [18:27<03:52,  1.85s/it]\u001b[A\n",
      "Iteration:  86%|██████████████████████████████████████████████████████████████████████████████████████████████████████▌                | 779/904 [18:30<03:57,  1.90s/it]\u001b[A\n",
      "Iteration:  86%|██████████████████████████████████████████████████████████████████████████████████████████████████████▋                | 780/904 [18:32<03:55,  1.90s/it]\u001b[A\n",
      "Iteration:  86%|██████████████████████████████████████████████████████████████████████████████████████████████████████▊                | 781/904 [18:34<03:53,  1.90s/it]\u001b[A\n",
      "Iteration:  87%|██████████████████████████████████████████████████████████████████████████████████████████████████████▉                | 782/904 [18:35<03:50,  1.89s/it]\u001b[A\n",
      "Iteration:  87%|███████████████████████████████████████████████████████████████████████████████████████████████████████                | 783/904 [18:37<03:45,  1.86s/it]\u001b[A\n",
      "Iteration:  87%|███████████████████████████████████████████████████████████████████████████████████████████████████████▏               | 784/904 [18:38<03:39,  1.83s/it]\u001b[A\n",
      "Iteration:  87%|███████████████████████████████████████████████████████████████████████████████████████████████████████▎               | 785/904 [18:39<03:36,  1.82s/it]\u001b[A\n",
      "Iteration:  87%|███████████████████████████████████████████████████████████████████████████████████████████████████████▍               | 786/904 [18:41<03:34,  1.82s/it]\u001b[A\n",
      "Iteration:  87%|███████████████████████████████████████████████████████████████████████████████████████████████████████▌               | 787/904 [18:43<03:31,  1.81s/it]\u001b[A\n",
      "Iteration:  87%|███████████████████████████████████████████████████████████████████████████████████████████████████████▋               | 788/904 [18:44<03:25,  1.77s/it]\u001b[A\n",
      "Iteration:  87%|███████████████████████████████████████████████████████████████████████████████████████████████████████▊               | 789/904 [18:46<03:24,  1.78s/it]\u001b[A\n",
      "Iteration:  87%|███████████████████████████████████████████████████████████████████████████████████████████████████████▉               | 790/904 [18:47<03:18,  1.74s/it]\u001b[A\n",
      "Iteration:  88%|████████████████████████████████████████████████████████████████████████████████████████████████████████▏              | 791/904 [18:48<03:14,  1.72s/it]\u001b[A\n",
      "Iteration:  88%|████████████████████████████████████████████████████████████████████████████████████████████████████████▎              | 792/904 [18:50<03:12,  1.72s/it]\u001b[A\n",
      "Iteration:  88%|████████████████████████████████████████████████████████████████████████████████████████████████████████▍              | 793/904 [18:51<03:09,  1.71s/it]\u001b[A\n",
      "Iteration:  88%|████████████████████████████████████████████████████████████████████████████████████████████████████████▌              | 794/904 [18:53<03:05,  1.69s/it]\u001b[A\n"
     ]
    },
    {
     "name": "stderr",
     "output_type": "stream",
     "text": [
      "Iteration:  88%|████████████████████████████████████████████████████████████████████████████████████████████████████████▋              | 795/904 [18:55<03:07,  1.72s/it]\u001b[A\n",
      "Iteration:  88%|████████████████████████████████████████████████████████████████████████████████████████████████████████▊              | 796/904 [18:57<03:05,  1.71s/it]\u001b[A\n",
      "Iteration:  88%|████████████████████████████████████████████████████████████████████████████████████████████████████████▉              | 797/904 [18:58<03:04,  1.72s/it]\u001b[A\n",
      "Iteration:  88%|█████████████████████████████████████████████████████████████████████████████████████████████████████████              | 798/904 [19:00<03:01,  1.71s/it]\u001b[A\n",
      "Iteration:  88%|█████████████████████████████████████████████████████████████████████████████████████████████████████████▏             | 799/904 [19:02<02:59,  1.71s/it]\u001b[A\n",
      "Iteration:  88%|█████████████████████████████████████████████████████████████████████████████████████████████████████████▎             | 800/904 [19:04<03:00,  1.74s/it]\u001b[A\n",
      "Iteration:  89%|█████████████████████████████████████████████████████████████████████████████████████████████████████████▍             | 801/904 [19:05<02:56,  1.72s/it]\u001b[A\n",
      "Iteration:  89%|█████████████████████████████████████████████████████████████████████████████████████████████████████████▌             | 802/904 [19:07<02:53,  1.70s/it]\u001b[A\n",
      "Iteration:  89%|█████████████████████████████████████████████████████████████████████████████████████████████████████████▋             | 803/904 [19:08<02:51,  1.69s/it]\u001b[A\n",
      "Iteration:  89%|█████████████████████████████████████████████████████████████████████████████████████████████████████████▊             | 804/904 [19:10<02:47,  1.68s/it]\u001b[A\n",
      "Iteration:  89%|█████████████████████████████████████████████████████████████████████████████████████████████████████████▉             | 805/904 [19:11<02:46,  1.68s/it]\u001b[A\n",
      "Iteration:  89%|██████████████████████████████████████████████████████████████████████████████████████████████████████████             | 806/904 [19:12<02:42,  1.65s/it]\u001b[A\n",
      "Iteration:  89%|██████████████████████████████████████████████████████████████████████████████████████████████████████████▏            | 807/904 [19:14<02:39,  1.65s/it]\u001b[A\n",
      "Iteration:  89%|██████████████████████████████████████████████████████████████████████████████████████████████████████████▎            | 808/904 [19:15<02:35,  1.62s/it]\u001b[A\n",
      "Iteration:  89%|██████████████████████████████████████████████████████████████████████████████████████████████████████████▍            | 809/904 [19:16<02:31,  1.60s/it]\u001b[A\n",
      "Iteration:  90%|██████████████████████████████████████████████████████████████████████████████████████████████████████████▋            | 810/904 [19:18<02:30,  1.60s/it]\u001b[A\n",
      "Iteration:  90%|██████████████████████████████████████████████████████████████████████████████████████████████████████████▊            | 811/904 [19:19<02:26,  1.58s/it]\u001b[A\n",
      "Iteration:  90%|██████████████████████████████████████████████████████████████████████████████████████████████████████████▉            | 812/904 [19:21<02:25,  1.58s/it]\u001b[A\n",
      "Iteration:  90%|███████████████████████████████████████████████████████████████████████████████████████████████████████████            | 813/904 [19:22<02:21,  1.56s/it]\u001b[A\n",
      "Iteration:  90%|███████████████████████████████████████████████████████████████████████████████████████████████████████████▏           | 814/904 [19:23<02:17,  1.53s/it]\u001b[A\n",
      "Iteration:  90%|███████████████████████████████████████████████████████████████████████████████████████████████████████████▎           | 815/904 [19:25<02:17,  1.54s/it]\u001b[A\n",
      "Iteration:  90%|███████████████████████████████████████████████████████████████████████████████████████████████████████████▍           | 816/904 [19:26<02:16,  1.55s/it]\u001b[A\n",
      "Iteration:  90%|███████████████████████████████████████████████████████████████████████████████████████████████████████████▌           | 817/904 [19:29<02:18,  1.59s/it]\u001b[A\n",
      "Iteration:  90%|███████████████████████████████████████████████████████████████████████████████████████████████████████████▋           | 818/904 [19:31<02:20,  1.63s/it]\u001b[A\n",
      "Iteration:  91%|███████████████████████████████████████████████████████████████████████████████████████████████████████████▊           | 819/904 [19:34<02:22,  1.67s/it]\u001b[A\n",
      "Iteration:  91%|███████████████████████████████████████████████████████████████████████████████████████████████████████████▉           | 820/904 [19:35<02:18,  1.65s/it]\u001b[A\n",
      "Iteration:  91%|████████████████████████████████████████████████████████████████████████████████████████████████████████████           | 821/904 [19:36<02:14,  1.62s/it]\u001b[A\n",
      "Iteration:  91%|████████████████████████████████████████████████████████████████████████████████████████████████████████████▏          | 822/904 [19:37<02:12,  1.62s/it]\u001b[A\n",
      "Iteration:  91%|████████████████████████████████████████████████████████████████████████████████████████████████████████████▎          | 823/904 [19:39<02:12,  1.63s/it]\u001b[A\n",
      "Iteration:  91%|████████████████████████████████████████████████████████████████████████████████████████████████████████████▍          | 824/904 [19:41<02:10,  1.63s/it]\u001b[A\n",
      "Iteration:  91%|████████████████████████████████████████████████████████████████████████████████████████████████████████████▌          | 825/904 [19:43<02:09,  1.64s/it]\u001b[A\n",
      "Iteration:  91%|████████████████████████████████████████████████████████████████████████████████████████████████████████████▋          | 826/904 [19:44<02:08,  1.64s/it]\u001b[A\n",
      "Iteration:  91%|████████████████████████████████████████████████████████████████████████████████████████████████████████████▊          | 827/904 [19:47<02:08,  1.67s/it]\u001b[A\n",
      "Iteration:  92%|████████████████████████████████████████████████████████████████████████████████████████████████████████████▉          | 828/904 [19:48<02:05,  1.65s/it]\u001b[A\n",
      "Iteration:  92%|█████████████████████████████████████████████████████████████████████████████████████████████████████████████▏         | 829/904 [19:49<02:02,  1.63s/it]\u001b[A\n",
      "Iteration:  92%|█████████████████████████████████████████████████████████████████████████████████████████████████████████████▎         | 830/904 [19:50<01:59,  1.62s/it]\u001b[A\n",
      "Iteration:  92%|█████████████████████████████████████████████████████████████████████████████████████████████████████████████▍         | 831/904 [19:52<01:59,  1.63s/it]\u001b[A\n",
      "Iteration:  92%|█████████████████████████████████████████████████████████████████████████████████████████████████████████████▌         | 832/904 [19:54<01:56,  1.62s/it]\u001b[A\n",
      "Iteration:  92%|█████████████████████████████████████████████████████████████████████████████████████████████████████████████▋         | 833/904 [19:56<01:55,  1.63s/it]\u001b[A\n",
      "Iteration:  92%|█████████████████████████████████████████████████████████████████████████████████████████████████████████████▊         | 834/904 [19:57<01:53,  1.61s/it]\u001b[A\n",
      "Iteration:  92%|█████████████████████████████████████████████████████████████████████████████████████████████████████████████▉         | 835/904 [19:59<01:51,  1.61s/it]\u001b[A\n",
      "Iteration:  92%|██████████████████████████████████████████████████████████████████████████████████████████████████████████████         | 836/904 [20:00<01:47,  1.59s/it]\u001b[A\n",
      "Iteration:  93%|██████████████████████████████████████████████████████████████████████████████████████████████████████████████▏        | 837/904 [20:01<01:44,  1.56s/it]\u001b[A\n",
      "Iteration:  93%|██████████████████████████████████████████████████████████████████████████████████████████████████████████████▎        | 838/904 [20:02<01:41,  1.54s/it]\u001b[A\n",
      "Iteration:  93%|██████████████████████████████████████████████████████████████████████████████████████████████████████████████▍        | 839/904 [20:03<01:39,  1.54s/it]\u001b[A\n",
      "Iteration:  93%|██████████████████████████████████████████████████████████████████████████████████████████████████████████████▌        | 840/904 [20:05<01:37,  1.53s/it]\u001b[A\n",
      "Iteration:  93%|██████████████████████████████████████████████████████████████████████████████████████████████████████████████▋        | 841/904 [20:06<01:35,  1.51s/it]\u001b[A\n"
     ]
    },
    {
     "name": "stderr",
     "output_type": "stream",
     "text": [
      "Iteration:  93%|██████████████████████████████████████████████████████████████████████████████████████████████████████████████▊        | 842/904 [20:07<01:32,  1.49s/it]\u001b[A\n",
      "Iteration:  93%|██████████████████████████████████████████████████████████████████████████████████████████████████████████████▉        | 843/904 [20:09<01:31,  1.51s/it]\u001b[A\n",
      "Iteration:  93%|███████████████████████████████████████████████████████████████████████████████████████████████████████████████        | 844/904 [20:11<01:31,  1.53s/it]\u001b[A\n",
      "Iteration:  93%|███████████████████████████████████████████████████████████████████████████████████████████████████████████████▏       | 845/904 [20:12<01:30,  1.54s/it]\u001b[A\n",
      "Iteration:  94%|███████████████████████████████████████████████████████████████████████████████████████████████████████████████▎       | 846/904 [20:14<01:28,  1.52s/it]\u001b[A\n",
      "Iteration:  94%|███████████████████████████████████████████████████████████████████████████████████████████████████████████████▍       | 847/904 [20:15<01:26,  1.52s/it]\u001b[A\n",
      "Iteration:  94%|███████████████████████████████████████████████████████████████████████████████████████████████████████████████▋       | 848/904 [20:18<01:28,  1.58s/it]\u001b[A\n",
      "Iteration:  94%|███████████████████████████████████████████████████████████████████████████████████████████████████████████████▊       | 849/904 [20:25<01:42,  1.85s/it]\u001b[A\n",
      "Iteration:  94%|███████████████████████████████████████████████████████████████████████████████████████████████████████████████▉       | 850/904 [20:32<01:53,  2.09s/it]\u001b[A\n",
      "Iteration:  94%|████████████████████████████████████████████████████████████████████████████████████████████████████████████████       | 851/904 [20:33<01:50,  2.08s/it]\u001b[A\n",
      "Iteration:  94%|████████████████████████████████████████████████████████████████████████████████████████████████████████████████▏      | 852/904 [20:37<01:50,  2.13s/it]\u001b[A\n",
      "Iteration:  94%|████████████████████████████████████████████████████████████████████████████████████████████████████████████████▎      | 853/904 [20:39<01:48,  2.14s/it]\u001b[A\n",
      "Iteration:  94%|████████████████████████████████████████████████████████████████████████████████████████████████████████████████▍      | 854/904 [20:41<01:46,  2.14s/it]\u001b[A\n",
      "Iteration:  95%|████████████████████████████████████████████████████████████████████████████████████████████████████████████████▌      | 855/904 [20:43<01:44,  2.12s/it]\u001b[A\n",
      "Iteration:  95%|████████████████████████████████████████████████████████████████████████████████████████████████████████████████▋      | 856/904 [20:46<01:44,  2.18s/it]\u001b[A\n",
      "Iteration:  95%|████████████████████████████████████████████████████████████████████████████████████████████████████████████████▊      | 857/904 [20:48<01:41,  2.15s/it]\u001b[A\n",
      "Iteration:  95%|████████████████████████████████████████████████████████████████████████████████████████████████████████████████▉      | 858/904 [20:49<01:38,  2.14s/it]\u001b[A\n",
      "Iteration:  95%|█████████████████████████████████████████████████████████████████████████████████████████████████████████████████      | 859/904 [20:52<01:36,  2.15s/it]\u001b[A\n",
      "Iteration:  95%|█████████████████████████████████████████████████████████████████████████████████████████████████████████████████▏     | 860/904 [20:54<01:34,  2.14s/it]\u001b[A\n",
      "Iteration:  95%|█████████████████████████████████████████████████████████████████████████████████████████████████████████████████▎     | 861/904 [20:56<01:31,  2.13s/it]\u001b[A\n",
      "Iteration:  95%|█████████████████████████████████████████████████████████████████████████████████████████████████████████████████▍     | 862/904 [20:57<01:27,  2.08s/it]\u001b[A\n",
      "Iteration:  95%|█████████████████████████████████████████████████████████████████████████████████████████████████████████████████▌     | 863/904 [20:59<01:24,  2.06s/it]\u001b[A\n",
      "Iteration:  96%|█████████████████████████████████████████████████████████████████████████████████████████████████████████████████▋     | 864/904 [21:02<01:25,  2.13s/it]\u001b[A\n",
      "Iteration:  96%|█████████████████████████████████████████████████████████████████████████████████████████████████████████████████▊     | 865/904 [21:04<01:23,  2.13s/it]\u001b[A\n",
      "Iteration:  96%|█████████████████████████████████████████████████████████████████████████████████████████████████████████████████▉     | 866/904 [21:06<01:20,  2.13s/it]\u001b[A\n",
      "Iteration:  96%|██████████████████████████████████████████████████████████████████████████████████████████████████████████████████▏    | 867/904 [21:07<01:16,  2.08s/it]\u001b[A\n",
      "Iteration:  96%|██████████████████████████████████████████████████████████████████████████████████████████████████████████████████▎    | 868/904 [21:09<01:13,  2.05s/it]\u001b[A\n",
      "Iteration:  96%|██████████████████████████████████████████████████████████████████████████████████████████████████████████████████▍    | 869/904 [21:12<01:14,  2.12s/it]\u001b[A\n",
      "Iteration:  96%|██████████████████████████████████████████████████████████████████████████████████████████████████████████████████▌    | 870/904 [21:14<01:11,  2.12s/it]\u001b[A\n",
      "Iteration:  96%|██████████████████████████████████████████████████████████████████████████████████████████████████████████████████▋    | 871/904 [21:16<01:09,  2.09s/it]\u001b[A\n",
      "Iteration:  96%|██████████████████████████████████████████████████████████████████████████████████████████████████████████████████▊    | 872/904 [21:17<01:05,  2.06s/it]\u001b[A\n",
      "Iteration:  97%|██████████████████████████████████████████████████████████████████████████████████████████████████████████████████▉    | 873/904 [21:20<01:04,  2.09s/it]\u001b[A\n",
      "Iteration:  97%|███████████████████████████████████████████████████████████████████████████████████████████████████████████████████    | 874/904 [21:22<01:03,  2.10s/it]\u001b[A\n",
      "Iteration:  97%|███████████████████████████████████████████████████████████████████████████████████████████████████████████████████▏   | 875/904 [21:24<00:59,  2.05s/it]\u001b[A\n",
      "Iteration:  97%|███████████████████████████████████████████████████████████████████████████████████████████████████████████████████▎   | 876/904 [21:25<00:56,  2.01s/it]\u001b[A\n",
      "Iteration:  97%|███████████████████████████████████████████████████████████████████████████████████████████████████████████████████▍   | 877/904 [21:26<00:53,  1.97s/it]\u001b[A\n",
      "Iteration:  97%|███████████████████████████████████████████████████████████████████████████████████████████████████████████████████▌   | 878/904 [21:30<00:54,  2.08s/it]\u001b[A\n",
      "Iteration:  97%|███████████████████████████████████████████████████████████████████████████████████████████████████████████████████▋   | 879/904 [21:32<00:51,  2.06s/it]\u001b[A\n",
      "Iteration:  97%|███████████████████████████████████████████████████████████████████████████████████████████████████████████████████▊   | 880/904 [21:33<00:48,  2.04s/it]\u001b[A\n",
      "Iteration:  97%|███████████████████████████████████████████████████████████████████████████████████████████████████████████████████▉   | 881/904 [21:35<00:46,  2.00s/it]\u001b[A\n",
      "Iteration:  98%|████████████████████████████████████████████████████████████████████████████████████████████████████████████████████   | 882/904 [21:36<00:43,  1.97s/it]\u001b[A\n",
      "Iteration:  98%|████████████████████████████████████████████████████████████████████████████████████████████████████████████████████▏  | 883/904 [21:38<00:40,  1.94s/it]\u001b[A\n",
      "Iteration:  98%|████████████████████████████████████████████████████████████████████████████████████████████████████████████████████▎  | 884/904 [21:39<00:38,  1.93s/it]\u001b[A\n",
      "Iteration:  98%|████████████████████████████████████████████████████████████████████████████████████████████████████████████████████▍  | 885/904 [21:41<00:36,  1.91s/it]\u001b[A\n",
      "Iteration:  98%|████████████████████████████████████████████████████████████████████████████████████████████████████████████████████▋  | 886/904 [21:42<00:33,  1.87s/it]\u001b[A\n",
      "Iteration:  98%|████████████████████████████████████████████████████████████████████████████████████████████████████████████████████▊  | 887/904 [21:44<00:31,  1.87s/it]\u001b[A\n",
      "Iteration:  98%|████████████████████████████████████████████████████████████████████████████████████████████████████████████████████▉  | 888/904 [21:46<00:30,  1.88s/it]\u001b[A\n"
     ]
    },
    {
     "name": "stderr",
     "output_type": "stream",
     "text": [
      "Iteration:  98%|█████████████████████████████████████████████████████████████████████████████████████████████████████████████████████  | 889/904 [21:48<00:28,  1.88s/it]\u001b[A\n",
      "Iteration:  98%|█████████████████████████████████████████████████████████████████████████████████████████████████████████████████████▏ | 890/904 [21:49<00:26,  1.87s/it]\u001b[A\n",
      "Iteration:  99%|█████████████████████████████████████████████████████████████████████████████████████████████████████████████████████▎ | 891/904 [21:51<00:24,  1.87s/it]\u001b[A\n",
      "Iteration:  99%|█████████████████████████████████████████████████████████████████████████████████████████████████████████████████████▍ | 892/904 [21:52<00:22,  1.84s/it]\u001b[A\n",
      "Iteration:  99%|█████████████████████████████████████████████████████████████████████████████████████████████████████████████████████▌ | 893/904 [21:53<00:19,  1.79s/it]\u001b[A\n",
      "Iteration:  99%|█████████████████████████████████████████████████████████████████████████████████████████████████████████████████████▋ | 894/904 [21:54<00:17,  1.75s/it]\u001b[A\n",
      "Iteration:  99%|█████████████████████████████████████████████████████████████████████████████████████████████████████████████████████▊ | 895/904 [21:55<00:15,  1.70s/it]\u001b[A\n",
      "Iteration:  99%|█████████████████████████████████████████████████████████████████████████████████████████████████████████████████████▉ | 896/904 [21:56<00:13,  1.67s/it]\u001b[A\n",
      "Iteration:  99%|██████████████████████████████████████████████████████████████████████████████████████████████████████████████████████ | 897/904 [21:57<00:11,  1.63s/it]\u001b[A\n",
      "Iteration:  99%|██████████████████████████████████████████████████████████████████████████████████████████████████████████████████████▏| 898/904 [21:58<00:09,  1.60s/it]\u001b[A\n",
      "Iteration:  99%|██████████████████████████████████████████████████████████████████████████████████████████████████████████████████████▎| 899/904 [21:59<00:07,  1.58s/it]\u001b[A\n",
      "Iteration: 100%|██████████████████████████████████████████████████████████████████████████████████████████████████████████████████████▍| 900/904 [22:00<00:06,  1.55s/it]\u001b[A\n",
      "Iteration: 100%|██████████████████████████████████████████████████████████████████████████████████████████████████████████████████████▌| 901/904 [22:01<00:04,  1.52s/it]\u001b[A\n",
      "Iteration: 100%|██████████████████████████████████████████████████████████████████████████████████████████████████████████████████████▋| 902/904 [22:02<00:02,  1.50s/it]\u001b[A\n",
      "Iteration: 100%|██████████████████████████████████████████████████████████████████████████████████████████████████████████████████████▊| 903/904 [22:03<00:01,  1.48s/it]\u001b[A\n",
      "Iteration: 100%|███████████████████████████████████████████████████████████████████████████████████████████████████████████████████████| 904/904 [22:04<00:00,  1.47s/it]\u001b[A\n",
      "Epoch: 100%|█████████████████████████████████████████████████████████████████████████████████████████████████████████████████████████████| 1/1 [22:04<00:00, 1324.41s/it]\n"
     ]
    }
   ],
   "source": [
    "clf.fit(title,label)"
   ]
  },
  {
   "cell_type": "code",
   "execution_count": 17,
   "id": "333a723d",
   "metadata": {},
   "outputs": [],
   "source": [
    "title_test = X_test.to_list()\n",
    "label_test = y_test.to_list()"
   ]
  },
  {
   "cell_type": "code",
   "execution_count": 18,
   "id": "082c53c5",
   "metadata": {},
   "outputs": [],
   "source": [
    "title_cv = x_cv.to_list()\n",
    "label_cv = y_cv.to_list()"
   ]
  },
  {
   "cell_type": "code",
   "execution_count": 19,
   "id": "bd998c0b",
   "metadata": {},
   "outputs": [],
   "source": [
    "label_cv_pred = clf.predict(title_cv)"
   ]
  },
  {
   "cell_type": "code",
   "execution_count": 20,
   "id": "24ceb158",
   "metadata": {},
   "outputs": [],
   "source": [
    "label_test_pred = clf.predict(title_test)"
   ]
  },
  {
   "cell_type": "code",
   "execution_count": 21,
   "id": "d5101aa5",
   "metadata": {},
   "outputs": [],
   "source": [
    "from sklearn.metrics import confusion_matrix, ConfusionMatrixDisplay, accuracy_score\n",
    "import matplotlib.pyplot as plt"
   ]
  },
  {
   "cell_type": "markdown",
   "id": "61274c75",
   "metadata": {},
   "source": [
    "## Accuracy score of cv data"
   ]
  },
  {
   "cell_type": "code",
   "execution_count": 22,
   "id": "120bf3dc",
   "metadata": {},
   "outputs": [
    {
     "data": {
      "text/plain": [
       "0.5580110497237569"
      ]
     },
     "execution_count": 22,
     "metadata": {},
     "output_type": "execute_result"
    }
   ],
   "source": [
    "accuracy_score(label_cv, label_cv_pred)"
   ]
  },
  {
   "cell_type": "markdown",
   "id": "0a64554f",
   "metadata": {},
   "source": [
    "## Accuracy score of test data"
   ]
  },
  {
   "cell_type": "code",
   "execution_count": 23,
   "id": "4c0775d4",
   "metadata": {},
   "outputs": [
    {
     "data": {
      "text/plain": [
       "0.5663716814159292"
      ]
     },
     "execution_count": 23,
     "metadata": {},
     "output_type": "execute_result"
    }
   ],
   "source": [
    "accuracy_score(label_test, label_test_pred)"
   ]
  },
  {
   "cell_type": "markdown",
   "id": "09602cd3",
   "metadata": {},
   "source": [
    "## Confusion Matrix for CV Data"
   ]
  },
  {
   "cell_type": "code",
   "execution_count": 24,
   "id": "566b7335",
   "metadata": {},
   "outputs": [],
   "source": [
    "cm_cv = confusion_matrix(label_cv, label_cv_pred)"
   ]
  },
  {
   "cell_type": "code",
   "execution_count": 25,
   "id": "4bd0bb92",
   "metadata": {},
   "outputs": [
    {
     "data": {
      "text/plain": [
       "<sklearn.metrics._plot.confusion_matrix.ConfusionMatrixDisplay at 0x7fb6a24575b0>"
      ]
     },
     "execution_count": 25,
     "metadata": {},
     "output_type": "execute_result"
    },
    {
     "data": {
      "image/png": "[encoded data removed]",
      "text/plain": [
       "<Figure size 640x480 with 2 Axes>"
      ]
     },
     "metadata": {},
     "output_type": "display_data"
    }
   ],
   "source": [
    "disp_cv = ConfusionMatrixDisplay(confusion_matrix=cm_cv)\n",
    "disp_cv.plot()"
   ]
  },
  {
   "cell_type": "markdown",
   "id": "18ffdff4",
   "metadata": {},
   "source": [
    "## Confusion Matrix for Test Data"
   ]
  },
  {
   "cell_type": "code",
   "execution_count": 26,
   "id": "70d6f98b",
   "metadata": {},
   "outputs": [],
   "source": [
    "cm_test = confusion_matrix(label_test, label_test_pred)"
   ]
  },
  {
   "cell_type": "code",
   "execution_count": 27,
   "id": "cfea7dcd",
   "metadata": {},
   "outputs": [
    {
     "data": {
      "text/plain": [
       "<sklearn.metrics._plot.confusion_matrix.ConfusionMatrixDisplay at 0x7fb6a1f66070>"
      ]
     },
     "execution_count": 27,
     "metadata": {},
     "output_type": "execute_result"
    },
    {
     "data": {
      "image/png": "[encoded data removed]",
      "text/plain": [
       "<Figure size 640x480 with 2 Axes>"
      ]
     },
     "metadata": {},
     "output_type": "display_data"
    }
   ],
   "source": [
    "disp_test = ConfusionMatrixDisplay(confusion_matrix=cm_test)\n",
    "disp_test.plot()"
   ]
  },
  {
   "cell_type": "markdown",
   "id": "608d1369",
   "metadata": {},
   "source": [
    "## F1 Score, Presicion, Recall for Test Data"
   ]
  },
  {
   "cell_type": "code",
   "execution_count": 28,
   "id": "b3bbb230",
   "metadata": {},
   "outputs": [
    {
     "name": "stdout",
     "output_type": "stream",
     "text": [
      "F1 Score_test : 0.5549305520035933\n",
      "Recall_test : 0.5663716814159292\n",
      "Precision_test : 0.5961994699071649\n"
     ]
    }
   ],
   "source": [
    "from sklearn.metrics import precision_score, recall_score, f1_score\n",
    "f1_score = f1_score(label_test, label_test_pred, average='weighted')\n",
    "print('F1 Score_test :', f1_score)\n",
    "recall_score = recall_score(label_test, label_test_pred, average='weighted')\n",
    "print('Recall_test :', recall_score)\n",
    "precision_score = precision_score(label_test, label_test_pred, average='weighted')\n",
    "print('Precision_test :', precision_score)"
   ]
  },
  {
   "cell_type": "markdown",
   "id": "a5f01e98",
   "metadata": {},
   "source": [
    "## F1 Score, Presicion, Recall for CV Data"
   ]
  },
  {
   "cell_type": "code",
   "execution_count": 29,
   "id": "bd2f17a2",
   "metadata": {
    "scrolled": true
   },
   "outputs": [
    {
     "name": "stdout",
     "output_type": "stream",
     "text": [
      "F1 Score_cv : 0.5436415546135459\n",
      "Recall_cv: 0.5580110497237569\n",
      "Precision_cv : 0.5752832139584879\n"
     ]
    }
   ],
   "source": [
    "from sklearn.metrics import precision_score, recall_score, f1_score\n",
    "f1_score = f1_score(label_cv, label_cv_pred, average='weighted')\n",
    "print('F1 Score_cv :', f1_score)\n",
    "recall_score = recall_score(label_cv, label_cv_pred, average='weighted')\n",
    "print('Recall_cv:', recall_score)\n",
    "precision_score = precision_score(label_cv, label_cv_pred, average='weighted')\n",
    "print('Precision_cv :', precision_score)"
   ]
  },
  {
   "cell_type": "code",
   "execution_count": 30,
   "id": "4d4cb16d",
   "metadata": {},
   "outputs": [],
   "source": [
    "clf.save('/home/dell/Documents/Sentence Transformers/saved_model')"
   ]
  },
  {
   "cell_type": "code",
   "execution_count": 31,
   "id": "db49c2cb",
   "metadata": {},
   "outputs": [],
   "source": [
    "load_model = SetFitClassifier.load('/home/dell/Documents/Sentence Transformers/saved_model')"
   ]
  },
  {
   "cell_type": "code",
   "execution_count": 36,
   "id": "fdc32cad",
   "metadata": {},
   "outputs": [
    {
     "data": {
      "text/plain": [
       "2"
      ]
     },
     "execution_count": 36,
     "metadata": {},
     "output_type": "execute_result"
    }
   ],
   "source": [
    "job_title = 'data analyst'\n",
    "df = pd.DataFrame()\n",
    "df['job_title'] = ['customer service assistant']\n",
    "job_title = df['job_title'].to_list()\n",
    "prediction = load_model.predict(job_title)\n",
    "prediction[0]\n"
   ]
  },
  {
   "cell_type": "code",
   "execution_count": null,
   "id": "2ff37238",
   "metadata": {},
   "outputs": [],
   "source": []
  },
  {
   "cell_type": "code",
   "execution_count": null,
   "id": "e217bd2c",
   "metadata": {},
   "outputs": [],
   "source": []
  },
  {
   "cell_type": "code",
   "execution_count": null,
   "id": "982d9ed1",
   "metadata": {},
   "outputs": [],
   "source": []
  },
  {
   "cell_type": "code",
   "execution_count": null,
   "id": "5f789d55",
   "metadata": {},
   "outputs": [],
   "source": []
  },
  {
   "cell_type": "markdown",
   "id": "bfc1061f",
   "metadata": {},
   "source": [
    "clf.save('/home/dell/Downloads/orbitshift_clf.h5')"
   ]
  },
  {
   "cell_type": "code",
   "execution_count": null,
   "id": "2e00c085",
   "metadata": {},
   "outputs": [],
   "source": []
  },
  {
   "cell_type": "code",
   "execution_count": null,
   "id": "d67f1461",
   "metadata": {},
   "outputs": [],
   "source": []
  }
 ],
 "metadata": {
  "kernelspec": {
   "display_name": "Python 3 (ipykernel)",
   "language": "python",
   "name": "python3"
  },
  "language_info": {
   "codemirror_mode": {
    "name": "ipython",
    "version": 3
   },
   "file_extension": ".py",
   "mimetype": "text/x-python",
   "name": "python",
   "nbconvert_exporter": "python",
   "pygments_lexer": "ipython3",
   "version": "3.8.10"
  },
  "varInspector": {
   "cols": {
    "lenName": 16,
    "lenType": 16,
    "lenVar": 40
   },
   "kernels_config": {
    "python": {
     "delete_cmd_postfix": "",
     "delete_cmd_prefix": "del ",
     "library": "var_list.py",
     "varRefreshCmd": "print(var_dic_list())"
    },
    "r": {
     "delete_cmd_postfix": ") ",
     "delete_cmd_prefix": "rm(",
     "library": "var_list.r",
     "varRefreshCmd": "cat(var_dic_list()) "
    }
   },
   "types_to_exclude": [
    "module",
    "function",
    "builtin_function_or_method",
    "instance",
    "_Feature"
   ],
   "window_display": false
  }
 },
 "nbformat": 4,
 "nbformat_minor": 5
}
